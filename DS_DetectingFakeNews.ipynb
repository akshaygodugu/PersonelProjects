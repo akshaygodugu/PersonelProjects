{
 "cells": [
  {
   "cell_type": "code",
   "execution_count": 1,
   "metadata": {},
   "outputs": [],
   "source": [
    "#import required libraries\n",
    "import pandas as pd\n",
    "import string\n",
    "import numpy as np\n",
    "import re\n",
    "import nltk\n",
    "import matplotlib.pyplot as plt"
   ]
  },
  {
   "cell_type": "code",
   "execution_count": 2,
   "metadata": {},
   "outputs": [
    {
     "name": "stdout",
     "output_type": "stream",
     "text": [
      "(6335, 4)\n"
     ]
    },
    {
     "data": {
      "text/html": [
       "<div>\n",
       "<style scoped>\n",
       "    .dataframe tbody tr th:only-of-type {\n",
       "        vertical-align: middle;\n",
       "    }\n",
       "\n",
       "    .dataframe tbody tr th {\n",
       "        vertical-align: top;\n",
       "    }\n",
       "\n",
       "    .dataframe thead th {\n",
       "        text-align: right;\n",
       "    }\n",
       "</style>\n",
       "<table border=\"1\" class=\"dataframe\">\n",
       "  <thead>\n",
       "    <tr style=\"text-align: right;\">\n",
       "      <th></th>\n",
       "      <th>Id</th>\n",
       "      <th>title</th>\n",
       "      <th>text</th>\n",
       "      <th>label</th>\n",
       "    </tr>\n",
       "  </thead>\n",
       "  <tbody>\n",
       "    <tr>\n",
       "      <th>0</th>\n",
       "      <td>8476</td>\n",
       "      <td>You Can Smell Hillary’s Fear</td>\n",
       "      <td>Daniel Greenfield, a Shillman Journalism Fellow at the Freedom Center, is a New York writer focu...</td>\n",
       "      <td>FAKE</td>\n",
       "    </tr>\n",
       "    <tr>\n",
       "      <th>1</th>\n",
       "      <td>10294</td>\n",
       "      <td>Watch The Exact Moment Paul Ryan Committed Political Suicide At A Trump Rally (VIDEO)</td>\n",
       "      <td>Google Pinterest Digg Linkedin Reddit Stumbleupon Print Delicious Pocket Tumblr \\nThere are two ...</td>\n",
       "      <td>FAKE</td>\n",
       "    </tr>\n",
       "    <tr>\n",
       "      <th>2</th>\n",
       "      <td>3608</td>\n",
       "      <td>Kerry to go to Paris in gesture of sympathy</td>\n",
       "      <td>U.S. Secretary of State John F. Kerry said Monday that he will stop in Paris later this week, am...</td>\n",
       "      <td>REAL</td>\n",
       "    </tr>\n",
       "    <tr>\n",
       "      <th>3</th>\n",
       "      <td>10142</td>\n",
       "      <td>Bernie supporters on Twitter erupt in anger against the DNC: 'We tried to warn you!'</td>\n",
       "      <td>— Kaydee King (@KaydeeKing) November 9, 2016 The lesson from tonight's Dem losses: Time for Demo...</td>\n",
       "      <td>FAKE</td>\n",
       "    </tr>\n",
       "    <tr>\n",
       "      <th>4</th>\n",
       "      <td>875</td>\n",
       "      <td>The Battle of New York: Why This Primary Matters</td>\n",
       "      <td>It's primary day in New York and front-runners Hillary Clinton and Donald Trump are leading in t...</td>\n",
       "      <td>REAL</td>\n",
       "    </tr>\n",
       "  </tbody>\n",
       "</table>\n",
       "</div>"
      ],
      "text/plain": [
       "      Id  \\\n",
       "0   8476   \n",
       "1  10294   \n",
       "2   3608   \n",
       "3  10142   \n",
       "4    875   \n",
       "\n",
       "                                                                                   title  \\\n",
       "0                                                           You Can Smell Hillary’s Fear   \n",
       "1  Watch The Exact Moment Paul Ryan Committed Political Suicide At A Trump Rally (VIDEO)   \n",
       "2                                            Kerry to go to Paris in gesture of sympathy   \n",
       "3   Bernie supporters on Twitter erupt in anger against the DNC: 'We tried to warn you!'   \n",
       "4                                       The Battle of New York: Why This Primary Matters   \n",
       "\n",
       "                                                                                                  text  \\\n",
       "0  Daniel Greenfield, a Shillman Journalism Fellow at the Freedom Center, is a New York writer focu...   \n",
       "1  Google Pinterest Digg Linkedin Reddit Stumbleupon Print Delicious Pocket Tumblr \\nThere are two ...   \n",
       "2  U.S. Secretary of State John F. Kerry said Monday that he will stop in Paris later this week, am...   \n",
       "3  — Kaydee King (@KaydeeKing) November 9, 2016 The lesson from tonight's Dem losses: Time for Demo...   \n",
       "4  It's primary day in New York and front-runners Hillary Clinton and Donald Trump are leading in t...   \n",
       "\n",
       "  label  \n",
       "0  FAKE  \n",
       "1  FAKE  \n",
       "2  REAL  \n",
       "3  FAKE  \n",
       "4  REAL  "
      ]
     },
     "execution_count": 2,
     "metadata": {},
     "output_type": "execute_result"
    }
   ],
   "source": [
    "#set col width to 100\n",
    "pd.set_option('display.max_colwidth', 100)\n",
    "\n",
    "#stop word removal\n",
    "stopwords = nltk.corpus.stopwords.words('english')\n",
    "ps = nltk.PorterStemmer()\n",
    "from nltk.tokenize import word_tokenize\n",
    "\n",
    "#Importing the csv file\n",
    "df = pd.read_csv(r\"D:\\DataScienceProjects\\news\\news.csv\")\n",
    "df.rename( columns = {'Unnamed: 0': 'Id'}, inplace=True)\n",
    "\n",
    "#get the size of dataset\n",
    "print(df.shape)\n",
    "df.head()"
   ]
  },
  {
   "cell_type": "code",
   "execution_count": 3,
   "metadata": {},
   "outputs": [],
   "source": [
    "#remove numeric values from dataset\n",
    "df['text'] = df['text'].str.replace('\\d+', '')"
   ]
  },
  {
   "cell_type": "code",
   "execution_count": 4,
   "metadata": {},
   "outputs": [],
   "source": [
    "#add words that aren't in the NLTK stopwords list\n",
    "new_stopwords = ['included','including','includes','one','two','three','general','generally','way','better','need','really','believe','provide','say','saying','says','include','said','also','would','could','end','recent','recently','us','like','make','may','look','still','come','see','across','even','much','get','allow','allows','allowed','allowing','well','go','gone','going','that','thats','take','thing','come','move','give','help','put','dont','people','got','kind','know','day','think','continue','look','year','years','new','use','there','want','wanted','please']\n",
    "new_stopwords_list = stopwords.extend(new_stopwords)"
   ]
  },
  {
   "cell_type": "code",
   "execution_count": 5,
   "metadata": {},
   "outputs": [],
   "source": [
    "#data cleaning- removing punctuations, tokenize, stop words\n",
    "def clean_text(text):\n",
    "    text = \"\".join([word.lower() for word in text if word not in string.punctuation])\n",
    "    tokens = word_tokenize(text)\n",
    "    text = set([ps.stem(word) for word in tokens if word not in stopwords])\n",
    "    return text"
   ]
  },
  {
   "cell_type": "code",
   "execution_count": 6,
   "metadata": {},
   "outputs": [],
   "source": [
    "# Converting Categorical values of \"label\" column to numerical\n",
    "from sklearn.preprocessing import LabelEncoder\n",
    "le = LabelEncoder()\n",
    "df['label'] = le.fit_transform(df['label'])\n"
   ]
  },
  {
   "cell_type": "code",
   "execution_count": 7,
   "metadata": {},
   "outputs": [
    {
     "data": {
      "text/html": [
       "<div>\n",
       "<style scoped>\n",
       "    .dataframe tbody tr th:only-of-type {\n",
       "        vertical-align: middle;\n",
       "    }\n",
       "\n",
       "    .dataframe tbody tr th {\n",
       "        vertical-align: top;\n",
       "    }\n",
       "\n",
       "    .dataframe thead th {\n",
       "        text-align: right;\n",
       "    }\n",
       "</style>\n",
       "<table border=\"1\" class=\"dataframe\">\n",
       "  <thead>\n",
       "    <tr style=\"text-align: right;\">\n",
       "      <th></th>\n",
       "      <th>Id</th>\n",
       "      <th>title</th>\n",
       "      <th>text</th>\n",
       "      <th>label</th>\n",
       "    </tr>\n",
       "  </thead>\n",
       "  <tbody>\n",
       "    <tr>\n",
       "      <th>0</th>\n",
       "      <td>8476</td>\n",
       "      <td>You Can Smell Hillary’s Fear</td>\n",
       "      <td>Daniel Greenfield, a Shillman Journalism Fellow at the Freedom Center, is a New York writer focu...</td>\n",
       "      <td>0</td>\n",
       "    </tr>\n",
       "    <tr>\n",
       "      <th>1</th>\n",
       "      <td>10294</td>\n",
       "      <td>Watch The Exact Moment Paul Ryan Committed Political Suicide At A Trump Rally (VIDEO)</td>\n",
       "      <td>Google Pinterest Digg Linkedin Reddit Stumbleupon Print Delicious Pocket Tumblr \\nThere are two ...</td>\n",
       "      <td>0</td>\n",
       "    </tr>\n",
       "    <tr>\n",
       "      <th>2</th>\n",
       "      <td>3608</td>\n",
       "      <td>Kerry to go to Paris in gesture of sympathy</td>\n",
       "      <td>U.S. Secretary of State John F. Kerry said Monday that he will stop in Paris later this week, am...</td>\n",
       "      <td>1</td>\n",
       "    </tr>\n",
       "    <tr>\n",
       "      <th>3</th>\n",
       "      <td>10142</td>\n",
       "      <td>Bernie supporters on Twitter erupt in anger against the DNC: 'We tried to warn you!'</td>\n",
       "      <td>— Kaydee King (@KaydeeKing) November ,  The lesson from tonight's Dem losses: Time for Democrats...</td>\n",
       "      <td>0</td>\n",
       "    </tr>\n",
       "    <tr>\n",
       "      <th>4</th>\n",
       "      <td>875</td>\n",
       "      <td>The Battle of New York: Why This Primary Matters</td>\n",
       "      <td>It's primary day in New York and front-runners Hillary Clinton and Donald Trump are leading in t...</td>\n",
       "      <td>1</td>\n",
       "    </tr>\n",
       "  </tbody>\n",
       "</table>\n",
       "</div>"
      ],
      "text/plain": [
       "      Id  \\\n",
       "0   8476   \n",
       "1  10294   \n",
       "2   3608   \n",
       "3  10142   \n",
       "4    875   \n",
       "\n",
       "                                                                                   title  \\\n",
       "0                                                           You Can Smell Hillary’s Fear   \n",
       "1  Watch The Exact Moment Paul Ryan Committed Political Suicide At A Trump Rally (VIDEO)   \n",
       "2                                            Kerry to go to Paris in gesture of sympathy   \n",
       "3   Bernie supporters on Twitter erupt in anger against the DNC: 'We tried to warn you!'   \n",
       "4                                       The Battle of New York: Why This Primary Matters   \n",
       "\n",
       "                                                                                                  text  \\\n",
       "0  Daniel Greenfield, a Shillman Journalism Fellow at the Freedom Center, is a New York writer focu...   \n",
       "1  Google Pinterest Digg Linkedin Reddit Stumbleupon Print Delicious Pocket Tumblr \\nThere are two ...   \n",
       "2  U.S. Secretary of State John F. Kerry said Monday that he will stop in Paris later this week, am...   \n",
       "3  — Kaydee King (@KaydeeKing) November ,  The lesson from tonight's Dem losses: Time for Democrats...   \n",
       "4  It's primary day in New York and front-runners Hillary Clinton and Donald Trump are leading in t...   \n",
       "\n",
       "   label  \n",
       "0      0  \n",
       "1      0  \n",
       "2      1  \n",
       "3      0  \n",
       "4      1  "
      ]
     },
     "execution_count": 7,
     "metadata": {},
     "output_type": "execute_result"
    }
   ],
   "source": [
    "df.head()"
   ]
  },
  {
   "cell_type": "code",
   "execution_count": 8,
   "metadata": {},
   "outputs": [],
   "source": [
    "#Split into train/test set\n",
    "from sklearn.model_selection import train_test_split\n",
    "\n",
    "X_train, X_test, y_train, y_test = train_test_split(df[['text']], df['label'], test_size=0.25)"
   ]
  },
  {
   "cell_type": "code",
   "execution_count": 9,
   "metadata": {},
   "outputs": [
    {
     "data": {
      "text/html": [
       "<div>\n",
       "<style scoped>\n",
       "    .dataframe tbody tr th:only-of-type {\n",
       "        vertical-align: middle;\n",
       "    }\n",
       "\n",
       "    .dataframe tbody tr th {\n",
       "        vertical-align: top;\n",
       "    }\n",
       "\n",
       "    .dataframe thead th {\n",
       "        text-align: right;\n",
       "    }\n",
       "</style>\n",
       "<table border=\"1\" class=\"dataframe\">\n",
       "  <thead>\n",
       "    <tr style=\"text-align: right;\">\n",
       "      <th></th>\n",
       "      <th>0</th>\n",
       "      <th>1</th>\n",
       "      <th>2</th>\n",
       "      <th>3</th>\n",
       "      <th>4</th>\n",
       "      <th>5</th>\n",
       "      <th>6</th>\n",
       "      <th>7</th>\n",
       "      <th>8</th>\n",
       "      <th>9</th>\n",
       "      <th>...</th>\n",
       "      <th>490</th>\n",
       "      <th>491</th>\n",
       "      <th>492</th>\n",
       "      <th>493</th>\n",
       "      <th>494</th>\n",
       "      <th>495</th>\n",
       "      <th>496</th>\n",
       "      <th>497</th>\n",
       "      <th>498</th>\n",
       "      <th>499</th>\n",
       "    </tr>\n",
       "  </thead>\n",
       "  <tbody>\n",
       "    <tr>\n",
       "      <th>0</th>\n",
       "      <td>0.000000</td>\n",
       "      <td>0.0</td>\n",
       "      <td>0.000000</td>\n",
       "      <td>0.0</td>\n",
       "      <td>0.0</td>\n",
       "      <td>0.116272</td>\n",
       "      <td>0.121474</td>\n",
       "      <td>0.000000</td>\n",
       "      <td>0.114435</td>\n",
       "      <td>0.000000</td>\n",
       "      <td>...</td>\n",
       "      <td>0.000000</td>\n",
       "      <td>0.133555</td>\n",
       "      <td>0.000000</td>\n",
       "      <td>0.000000</td>\n",
       "      <td>0.111148</td>\n",
       "      <td>0.000000</td>\n",
       "      <td>0.118796</td>\n",
       "      <td>0.062152</td>\n",
       "      <td>0.068484</td>\n",
       "      <td>0.068711</td>\n",
       "    </tr>\n",
       "    <tr>\n",
       "      <th>1</th>\n",
       "      <td>0.099177</td>\n",
       "      <td>0.0</td>\n",
       "      <td>0.076807</td>\n",
       "      <td>0.0</td>\n",
       "      <td>0.0</td>\n",
       "      <td>0.000000</td>\n",
       "      <td>0.000000</td>\n",
       "      <td>0.000000</td>\n",
       "      <td>0.000000</td>\n",
       "      <td>0.000000</td>\n",
       "      <td>...</td>\n",
       "      <td>0.000000</td>\n",
       "      <td>0.000000</td>\n",
       "      <td>0.000000</td>\n",
       "      <td>0.000000</td>\n",
       "      <td>0.000000</td>\n",
       "      <td>0.000000</td>\n",
       "      <td>0.000000</td>\n",
       "      <td>0.048392</td>\n",
       "      <td>0.053322</td>\n",
       "      <td>0.053499</td>\n",
       "    </tr>\n",
       "    <tr>\n",
       "      <th>2</th>\n",
       "      <td>0.074352</td>\n",
       "      <td>0.0</td>\n",
       "      <td>0.000000</td>\n",
       "      <td>0.0</td>\n",
       "      <td>0.0</td>\n",
       "      <td>0.067869</td>\n",
       "      <td>0.070906</td>\n",
       "      <td>0.079414</td>\n",
       "      <td>0.066797</td>\n",
       "      <td>0.000000</td>\n",
       "      <td>...</td>\n",
       "      <td>0.083516</td>\n",
       "      <td>0.000000</td>\n",
       "      <td>0.065613</td>\n",
       "      <td>0.000000</td>\n",
       "      <td>0.064879</td>\n",
       "      <td>0.055856</td>\n",
       "      <td>0.069343</td>\n",
       "      <td>0.036279</td>\n",
       "      <td>0.039975</td>\n",
       "      <td>0.040108</td>\n",
       "    </tr>\n",
       "    <tr>\n",
       "      <th>3</th>\n",
       "      <td>0.000000</td>\n",
       "      <td>0.0</td>\n",
       "      <td>0.000000</td>\n",
       "      <td>0.0</td>\n",
       "      <td>0.0</td>\n",
       "      <td>0.000000</td>\n",
       "      <td>0.105011</td>\n",
       "      <td>0.000000</td>\n",
       "      <td>0.000000</td>\n",
       "      <td>0.092319</td>\n",
       "      <td>...</td>\n",
       "      <td>0.000000</td>\n",
       "      <td>0.000000</td>\n",
       "      <td>0.000000</td>\n",
       "      <td>0.000000</td>\n",
       "      <td>0.000000</td>\n",
       "      <td>0.082722</td>\n",
       "      <td>0.000000</td>\n",
       "      <td>0.053728</td>\n",
       "      <td>0.059202</td>\n",
       "      <td>0.059399</td>\n",
       "    </tr>\n",
       "    <tr>\n",
       "      <th>4</th>\n",
       "      <td>0.000000</td>\n",
       "      <td>0.0</td>\n",
       "      <td>0.000000</td>\n",
       "      <td>0.0</td>\n",
       "      <td>0.0</td>\n",
       "      <td>0.000000</td>\n",
       "      <td>0.000000</td>\n",
       "      <td>0.000000</td>\n",
       "      <td>0.000000</td>\n",
       "      <td>0.000000</td>\n",
       "      <td>...</td>\n",
       "      <td>0.000000</td>\n",
       "      <td>0.000000</td>\n",
       "      <td>0.000000</td>\n",
       "      <td>0.102038</td>\n",
       "      <td>0.000000</td>\n",
       "      <td>0.000000</td>\n",
       "      <td>0.000000</td>\n",
       "      <td>0.054023</td>\n",
       "      <td>0.059526</td>\n",
       "      <td>0.059724</td>\n",
       "    </tr>\n",
       "  </tbody>\n",
       "</table>\n",
       "<p>5 rows × 500 columns</p>\n",
       "</div>"
      ],
      "text/plain": [
       "        0    1         2    3    4         5         6         7         8    \\\n",
       "0  0.000000  0.0  0.000000  0.0  0.0  0.116272  0.121474  0.000000  0.114435   \n",
       "1  0.099177  0.0  0.076807  0.0  0.0  0.000000  0.000000  0.000000  0.000000   \n",
       "2  0.074352  0.0  0.000000  0.0  0.0  0.067869  0.070906  0.079414  0.066797   \n",
       "3  0.000000  0.0  0.000000  0.0  0.0  0.000000  0.105011  0.000000  0.000000   \n",
       "4  0.000000  0.0  0.000000  0.0  0.0  0.000000  0.000000  0.000000  0.000000   \n",
       "\n",
       "        9    ...       490       491       492       493       494       495  \\\n",
       "0  0.000000  ...  0.000000  0.133555  0.000000  0.000000  0.111148  0.000000   \n",
       "1  0.000000  ...  0.000000  0.000000  0.000000  0.000000  0.000000  0.000000   \n",
       "2  0.000000  ...  0.083516  0.000000  0.065613  0.000000  0.064879  0.055856   \n",
       "3  0.092319  ...  0.000000  0.000000  0.000000  0.000000  0.000000  0.082722   \n",
       "4  0.000000  ...  0.000000  0.000000  0.000000  0.102038  0.000000  0.000000   \n",
       "\n",
       "        496       497       498       499  \n",
       "0  0.118796  0.062152  0.068484  0.068711  \n",
       "1  0.000000  0.048392  0.053322  0.053499  \n",
       "2  0.069343  0.036279  0.039975  0.040108  \n",
       "3  0.000000  0.053728  0.059202  0.059399  \n",
       "4  0.000000  0.054023  0.059526  0.059724  \n",
       "\n",
       "[5 rows x 500 columns]"
      ]
     },
     "execution_count": 9,
     "metadata": {},
     "output_type": "execute_result"
    }
   ],
   "source": [
    "#Normalization technique using TF-IDF\n",
    "from sklearn.feature_extraction.text import TfidfVectorizer\n",
    "\n",
    "tfidf_vect = TfidfVectorizer(analyzer=clean_text, max_features=500, min_df = 3, max_df = 0.7)\n",
    "tfidf_vect_fit = tfidf_vect.fit(X_train['text'])\n",
    "\n",
    "tfidf_train = tfidf_vect_fit.transform(X_train['text'])\n",
    "tfidf_test = tfidf_vect_fit.transform(X_test['text'])\n",
    "\n",
    "X_train_vect = pd.DataFrame(tfidf_train.toarray())\n",
    "X_test_vect = pd.DataFrame(tfidf_test.toarray())\n",
    "\n",
    "X_train_vect.head()"
   ]
  },
  {
   "cell_type": "code",
   "execution_count": 10,
   "metadata": {},
   "outputs": [
    {
     "name": "stdout",
     "output_type": "stream",
     "text": [
      "['abl', 'accept', 'accord', 'account', 'accus', 'act', 'action', 'activ', 'actual', 'ad', 'addit', 'address', 'administr', 'ago', 'agre', 'aid', 'almost', 'along', 'alreadi', 'although', 'alway', 'america', 'american', 'among', 'announc', 'anoth', 'answer', 'anyon', 'anyth', 'appear', 'area', 'argu', 'arm', 'around', 'articl', 'ask', 'associ', 'attack', 'attempt', 'author', 'away', 'back', 'bad', 'barack', 'base', 'becom', 'began', 'begin', 'behind', 'believ', 'best', 'big', 'bill', 'black', 'break', 'bring', 'build', 'bush', 'busi', 'call', 'came', 'campaign', 'candid', 'care', 'carri', 'case', 'caus', 'center', 'challeng', 'chanc', 'chang', 'charg', 'chief', 'children', 'citi', 'citizen', 'claim', 'clear', 'clinton', 'close', 'cnn', 'come', 'comment', 'commit', 'committe', 'commun', 'compani', 'complet', 'concern', 'congress', 'conserv', 'consid', 'continu', 'contribut', 'control', 'convent', 'countri', 'cours', 'court', 'creat', 'critic', 'current', 'day', 'deal', 'death', 'debat', 'decad', 'decid', 'decis', 'defend', 'defens', 'democrat', 'depart', 'describ', 'despit', 'detail', 'develop', 'differ', 'direct', 'director', 'discuss', 'donald', 'done', 'earli', 'earlier', 'econom', 'effect', 'effort', 'either', 'elect', 'email', 'enough', 'entir', 'especi', 'establish', 'event', 'ever', 'everi', 'everyon', 'everyth', 'evid', 'exampl', 'execut', 'expect', 'explain', 'express', 'face', 'fact', 'fail', 'fall', 'famili', 'far', 'favor', 'fear', 'feder', 'feel', 'fight', 'final', 'find', 'fire', 'first', 'five', 'florida', 'follow', 'forc', 'foreign', 'form', 'former', 'found', 'four', 'fox', 'free', 'friday', 'friend', 'full', 'fund', 'futur', 'get', 'give', 'given', 'global', 'good', 'gop', 'govern', 'great', 'ground', 'group', 'grow', 'hand', 'happen', 'hard', 'head', 'health', 'hear', 'held', 'help', 'high', 'hillari', 'histori', 'hold', 'home', 'hope', 'hour', 'hous', 'howev', 'human', 'idea', 'immedi', 'immigr', 'import', 'increas', 'independ', 'inform', 'instead', 'institut', 'interest', 'intern', 'interview', 'investig', 'involv', 'issu', 'job', 'john', 'join', 'justic', 'keep', 'key', 'kill', 'known', 'larg', 'last', 'late', 'later', 'law', 'lead', 'leader', 'learn', 'least', 'leav', 'led', 'left', 'legal', 'less', 'let', 'level', 'liber', 'life', 'like', 'limit', 'line', 'list', 'littl', 'live', 'local', 'long', 'look', 'lose', 'lost', 'lot', 'made', 'major', 'make', 'man', 'manag', 'mani', 'march', 'mark', 'matter', 'mean', 'media', 'meet', 'member', 'men', 'messag', 'middl', 'might', 'militari', 'million', 'mind', 'moment', 'monday', 'money', 'month', 'move', 'must', 'name', 'nation', 'natur', 'nearli', 'need', 'never', 'news', 'next', 'night', 'nomin', 'nomine', 'north', 'note', 'noth', 'novemb', 'number', 'obama', 'octob', 'offer', 'offic', 'offici', 'often', 'open', 'oper', 'opportun', 'oppos', 'order', 'organ', 'other', 'outsid', 'part', 'parti', 'pass', 'past', 'paul', 'pay', 'percent', 'perhap', 'person', 'place', 'plan', 'play', 'point', 'polic', 'polici', 'polit', 'poll', 'posit', 'possibl', 'post', 'potenti', 'power', 'present', 'presid', 'presidenti', 'press', 'primari', 'privat', 'probabl', 'problem', 'process', 'program', 'promis', 'protect', 'provid', 'public', 'publish', 'push', 'question', 'race', 'rais', 'ralli', 'rate', 'rather', 'reach', 'read', 'real', 'reason', 'receiv', 'record', 'refer', 'refus', 'relat', 'releas', 'remain', 'report', 'repres', 'republican', 'requir', 'research', 'respond', 'respons', 'result', 'return', 'reveal', 'right', 'rise', 'role', 'rule', 'run', 'school', 'second', 'secretari', 'secur', 'seek', 'seem', 'seen', 'sen', 'senat', 'senior', 'sens', 'serv', 'servic', 'set', 'sever', 'share', 'show', 'side', 'sign', 'similar', 'simpli', 'sinc', 'small', 'social', 'someon', 'someth', 'sourc', 'south', 'speak', 'speech', 'stand', 'start', 'state', 'statement', 'step', 'stop', 'stori', 'street', 'strong', 'success', 'suggest', 'support', 'sure', 'system', 'take', 'taken', 'talk', 'target', 'team', 'tell', 'term', 'terror', 'thing', 'think', 'third', 'though', 'thought', 'thousand', 'threat', 'thursday', 'time', 'today', 'togeth', 'told', 'took', 'top', 'total', 'toward', 'tri', 'true', 'trump', 'tuesday', 'turn', 'twitter', 'understand', 'unit', 'univers', 'use', 'victori', 'video', 'view', 'vote', 'voter', 'wall', 'want', 'war', 'warn', 'washington', 'watch', 'wednesday', 'week', 'went', 'whether', 'white', 'whole', 'whose', 'win', 'within', 'without', 'woman', 'women', 'word', 'work', 'world', 'write', 'wrong', 'wrote', 'yet', 'york', '–', '—', '‘', '’', '“', '”']\n"
     ]
    }
   ],
   "source": [
    "print(tfidf_vect.get_feature_names())"
   ]
  },
  {
   "cell_type": "code",
   "execution_count": 11,
   "metadata": {},
   "outputs": [
    {
     "data": {
      "text/plain": [
       "[('’', 203.59505354803926),\n",
       " ('“', 184.3109597494625),\n",
       " ('”', 182.71416788634636),\n",
       " ('state', 166.56111704314762),\n",
       " ('time', 165.9692930071457),\n",
       " ('presid', 154.43883392168036),\n",
       " ('trump', 151.01494903738705),\n",
       " ('report', 150.8154626330071),\n",
       " ('clinton', 145.28351845089531),\n",
       " ('elect', 142.8080001467161),\n",
       " ('first', 142.51950259936643),\n",
       " ('support', 142.42621772391095),\n",
       " ('call', 141.772115911995),\n",
       " ('hillari', 141.66460805873564),\n",
       " ('campaign', 140.1725777685857),\n",
       " ('nation', 138.1820065505618),\n",
       " ('mani', 137.34876171124282),\n",
       " ('news', 136.44721886917156),\n",
       " ('american', 135.66892653652488),\n",
       " ('last', 135.1652057020296),\n",
       " ('democrat', 134.2277117213017),\n",
       " ('work', 133.67121047024187),\n",
       " ('republican', 132.74254835573805),\n",
       " ('polit', 132.56862591943442),\n",
       " ('—', 131.70561691687942),\n",
       " ('obama', 131.26086204900142),\n",
       " ('countri', 130.893661374839),\n",
       " ('show', 130.79378811906523),\n",
       " ('right', 130.15520432007608),\n",
       " ('back', 128.9961947182887),\n",
       " ('donald', 126.4478119715755),\n",
       " ('made', 125.53553312964831),\n",
       " ('presidenti', 125.41098162031687),\n",
       " ('candid', 125.08027499821583),\n",
       " ('use', 124.85708811514628),\n",
       " ('hous', 124.30956106641123),\n",
       " ('part', 123.52085194738322),\n",
       " ('told', 122.94216578322121),\n",
       " ('week', 122.17271682146345),\n",
       " ('point', 122.12634157206953),\n",
       " ('post', 121.81187398505787),\n",
       " ('govern', 121.51658897363282),\n",
       " ('sinc', 121.10499956174058),\n",
       " ('accord', 119.90318098607385),\n",
       " ('follow', 119.11490591936312),\n",
       " ('issu', 119.02171857383301),\n",
       " ('world', 117.97787386071013),\n",
       " ('parti', 115.63594614491542),\n",
       " ('unit', 115.21589069359386),\n",
       " ('vote', 115.09072721668025),\n",
       " ('white', 114.8122171810721),\n",
       " ('tri', 113.71503388117796),\n",
       " ('anoth', 112.73362477802631),\n",
       " ('media', 112.20118783029153),\n",
       " ('next', 111.18897128107353),\n",
       " ('public', 110.99701124768636),\n",
       " ('share', 110.44123925847539),\n",
       " ('group', 110.42248675465198),\n",
       " ('run', 110.26153336850459),\n",
       " ('month', 109.41016252416756),\n",
       " ('former', 109.24115387145093),\n",
       " ('major', 108.98386257892065),\n",
       " ('live', 108.74883357988878),\n",
       " ('offici', 108.38260900801251),\n",
       " ('chang', 108.35146265448637),\n",
       " ('ask', 107.9908636938988),\n",
       " ('–', 107.90239718815138),\n",
       " ('america', 107.6609694349745),\n",
       " ('ad', 107.62306652120739),\n",
       " ('forc', 106.98664431483442),\n",
       " ('offic', 106.96548608455603),\n",
       " ('comment', 106.71638189859297),\n",
       " ('person', 106.68808999093086),\n",
       " ('place', 105.93404329211604),\n",
       " ('email', 105.4981753004528),\n",
       " ('good', 105.23306222597363),\n",
       " ('come', 104.92887237507833),\n",
       " ('question', 104.91172588118752),\n",
       " ('plan', 104.83624186128641),\n",
       " ('attack', 104.82342236284815),\n",
       " ('polici', 104.75292106641697),\n",
       " ('today', 104.37710558121857),\n",
       " ('appear', 104.3138093448216),\n",
       " ('washington', 104.2764941207235),\n",
       " ('make', 104.02717920852453),\n",
       " ('number', 103.59835662159455),\n",
       " ('around', 103.37361850262144),\n",
       " ('power', 103.15815315296318),\n",
       " ('octob', 102.5821780416202),\n",
       " ('million', 102.09664415139935),\n",
       " ('becom', 101.81707337006647),\n",
       " ('like', 101.48405208606896),\n",
       " ('fact', 101.14699638213763),\n",
       " ('start', 101.0192404702075),\n",
       " ('claim', 100.72159107460521),\n",
       " ('lead', 100.6314615145619),\n",
       " ('case', 100.62702255479687),\n",
       " ('talk', 100.47018224074542),\n",
       " ('everi', 99.83701953699403),\n",
       " ('law', 99.67646338769767),\n",
       " ('never', 99.3096807961183),\n",
       " ('mean', 99.21394734903316),\n",
       " ('keep', 99.19804636260322),\n",
       " ('happen', 99.0430790633667),\n",
       " ('win', 98.66347947608796),\n",
       " ('far', 98.01308024603358),\n",
       " ('possibl', 97.88042438812809),\n",
       " ('administr', 97.81047752452925),\n",
       " ('voter', 97.64090044034722),\n",
       " ('long', 97.49177094076138),\n",
       " ('take', 97.34016030906895),\n",
       " ('sever', 96.80514615854082),\n",
       " ('turn', 96.46991525463842),\n",
       " ('close', 96.1339719901347),\n",
       " ('member', 96.03745108168398),\n",
       " ('day', 95.60581598023815),\n",
       " ('found', 95.43972158308641),\n",
       " ('secur', 95.22307172885355),\n",
       " ('leader', 95.203740098722),\n",
       " ('howev', 95.12006648785044),\n",
       " ('war', 95.04386893474124),\n",
       " ('differ', 94.90970335310891),\n",
       " ('clear', 94.7582160433105),\n",
       " ('alreadi', 94.72637625511221),\n",
       " ('kill', 94.67418244466289),\n",
       " ('find', 94.43674919591865),\n",
       " ('might', 94.30486346075969),\n",
       " ('face', 94.261924676413),\n",
       " ('earli', 94.19517625300581),\n",
       " ('top', 93.92902831052601),\n",
       " ('whether', 93.91121312363916),\n",
       " ('someth', 93.7906872893615),\n",
       " ('inform', 93.15032620273008),\n",
       " ('senat', 92.99475738531778),\n",
       " ('‘', 92.66789090456153),\n",
       " ('look', 92.61889209238143),\n",
       " ('least', 92.57850313649712),\n",
       " ('press', 92.54206034798403),\n",
       " ('without', 92.49308935755799),\n",
       " ('john', 92.39438901336622),\n",
       " ('import', 92.26976712357691),\n",
       " ('author', 92.05785976286069),\n",
       " ('video', 91.97795019550627),\n",
       " ('seem', 91.74556268896868),\n",
       " ('reason', 91.59730734556584),\n",
       " ('result', 91.53453509166233),\n",
       " ('among', 91.46675760818643),\n",
       " ('rule', 91.20993184263607),\n",
       " ('releas', 91.2021675487175),\n",
       " ('novemb', 91.03870537161094),\n",
       " ('past', 90.69361923665889),\n",
       " ('hope', 90.28330341609546),\n",
       " ('posit', 90.26899134020422),\n",
       " ('yet', 90.21631177215961),\n",
       " ('respons', 90.03469458806596),\n",
       " ('actual', 89.44888233617374),\n",
       " ('lot', 89.15273782416229),\n",
       " ('announc', 88.96156603698017),\n",
       " ('thing', 88.67575050018685),\n",
       " ('get', 88.47337139176535),\n",
       " ('though', 88.21077652135719),\n",
       " ('let', 88.04600390747281),\n",
       " ('name', 87.80206255135651),\n",
       " ('stori', 87.62939542374954),\n",
       " ('left', 87.59736372250613),\n",
       " ('system', 87.49035737561464),\n",
       " ('need', 87.26770666561822),\n",
       " ('problem', 87.25303721848265),\n",
       " ('fight', 87.17287089536337),\n",
       " ('critic', 87.09022226114811),\n",
       " ('york', 86.9975261683572),\n",
       " ('expect', 86.7775331869186),\n",
       " ('big', 86.69966644499104),\n",
       " ('deal', 86.68187409623178),\n",
       " ('poll', 86.62429912421537),\n",
       " ('bill', 86.49377867187742),\n",
       " ('interest', 86.31993024606301),\n",
       " ('set', 86.30283050714908),\n",
       " ('tell', 85.79532024177404),\n",
       " ('investig', 85.76708053783882),\n",
       " ('feder', 85.67691623312889),\n",
       " ('famili', 85.53835225355195),\n",
       " ('came', 85.49605833254714),\n",
       " ('remain', 85.471691632479),\n",
       " ('sign', 85.45444362024043),\n",
       " ('act', 85.4182842879351),\n",
       " ('sourc', 85.3390637294203),\n",
       " ('ago', 85.12599246368714),\n",
       " ('note', 85.08885458755525),\n",
       " ('home', 85.07204763410272),\n",
       " ('littl', 84.8386031582273),\n",
       " ('statement', 84.82755539042255),\n",
       " ('man', 84.68718071496512),\n",
       " ('race', 84.61615125579142),\n",
       " ('stop', 84.45190817386398),\n",
       " ('continu', 84.43152218406216),\n",
       " ('away', 84.31010598601063),\n",
       " ('consid', 84.14986933352651),\n",
       " ('depart', 84.14959583093713),\n",
       " ('took', 83.9757858971711),\n",
       " ('push', 83.96635011306309),\n",
       " ('real', 83.87823631610215),\n",
       " ('secretari', 83.8290669006327),\n",
       " ('view', 83.8000304183014),\n",
       " ('hand', 83.69214334542424),\n",
       " ('commun', 83.68164743629758),\n",
       " ('best', 83.5334104970068),\n",
       " ('leav', 83.46182933849144),\n",
       " ('effort', 83.28464462666729),\n",
       " ('hold', 83.1836283955394),\n",
       " ('citi', 83.13151913038512),\n",
       " ('stand', 82.93377312796969),\n",
       " ('enough', 82.86553633715913),\n",
       " ('other', 82.81707107365327),\n",
       " ('larg', 82.78042292420815),\n",
       " ('concern', 82.74655896005437),\n",
       " ('base', 82.69837448062454),\n",
       " ('percent', 82.66142103800905),\n",
       " ('open', 82.64700357329987),\n",
       " ('gop', 82.53499616712344),\n",
       " ('current', 82.38409223094438),\n",
       " ('suggest', 82.26760893740733),\n",
       " ('less', 82.1706700601047),\n",
       " ('control', 82.07860138701858),\n",
       " ('line', 81.86855599010596),\n",
       " ('ever', 81.83223019591306),\n",
       " ('speak', 81.5851327245518),\n",
       " ('decis', 81.52963143918592),\n",
       " ('job', 81.27703713599094),\n",
       " ('second', 81.22226259135525),\n",
       " ('seen', 81.17607641392998),\n",
       " ('intern', 81.14892186237356),\n",
       " ('interview', 80.86669282037671),\n",
       " ('creat', 80.80799992250392),\n",
       " ('foreign', 80.72302330392405),\n",
       " ('great', 80.68100664797124),\n",
       " ('matter', 80.64631294329187),\n",
       " ('life', 80.50683237451415),\n",
       " ('organ', 80.46134603679639),\n",
       " ('play', 80.4177451241539),\n",
       " ('must', 80.3024229775325),\n",
       " ('read', 80.27302382373097),\n",
       " ('order', 80.25712902021661),\n",
       " ('nomine', 80.23249624273507),\n",
       " ('debat', 80.16327649378445),\n",
       " ('action', 79.95702548843003),\n",
       " ('sure', 79.67624207755875),\n",
       " ('four', 79.66720899707778),\n",
       " ('tuesday', 79.36720526070934),\n",
       " ('watch', 79.24646262171036),\n",
       " ('list', 79.11637846588637),\n",
       " ('noth', 79.01515955293621),\n",
       " ('head', 78.8200091555351),\n",
       " ('oper', 78.77303237034306),\n",
       " ('given', 78.74438394587622),\n",
       " ('later', 78.70977945020167),\n",
       " ('meet', 78.53772829689918),\n",
       " ('effect', 78.30498121711392),\n",
       " ('final', 78.29948291667274),\n",
       " ('center', 78.22953595299388),\n",
       " ('primari', 78.13349082557534),\n",
       " ('histori', 77.85814061302504),\n",
       " ('conserv', 77.75718435875983),\n",
       " ('word', 77.67552999138648),\n",
       " ('night', 77.56589390836265),\n",
       " ('congress', 77.45987157730059),\n",
       " ('busi', 76.9100173055883),\n",
       " ('potenti', 76.87019050228103),\n",
       " ('earlier', 76.8131589007042),\n",
       " ('side', 76.79335341744245),\n",
       " ('caus', 76.65081735057056),\n",
       " ('feel', 76.63884808728363),\n",
       " ('protect', 76.36599928152319),\n",
       " ('discuss', 76.32118755803894),\n",
       " ('univers', 76.12763972935126),\n",
       " ('cours', 75.85233339162565),\n",
       " ('care', 75.73681361895915),\n",
       " ('behind', 75.72065413779642),\n",
       " ('relat', 75.7056893493624),\n",
       " ('wednesday', 75.30397681143995),\n",
       " ('militari', 75.15360072992176),\n",
       " ('decid', 75.12125103767896),\n",
       " ('event', 75.07709418072605),\n",
       " ('instead', 75.03240651038521),\n",
       " ('free', 75.0058812384614),\n",
       " ('money', 74.96887421964321),\n",
       " ('idea', 74.74398462048755),\n",
       " ('rais', 74.67457353916798),\n",
       " ('record', 74.55609213446523),\n",
       " ('process', 74.30281717823115),\n",
       " ('offer', 74.07539865600165),\n",
       " ('women', 73.80942190688785),\n",
       " ('thought', 73.79149409181285),\n",
       " ('establish', 73.23247973055443),\n",
       " ('abl', 72.90860526622562),\n",
       " ('serv', 72.89597026843508),\n",
       " ('involv', 72.85129959884054),\n",
       " ('done', 72.78103115322078),\n",
       " ('reach', 72.67038837865931),\n",
       " ('repres', 72.65065436270218),\n",
       " ('receiv', 72.53192847365358),\n",
       " ('anyth', 72.36227445961136),\n",
       " ('taken', 72.27478755132485),\n",
       " ('thursday', 72.09249424379523),\n",
       " ('increas', 72.07331738304676),\n",
       " ('sen', 71.81731062975216),\n",
       " ('privat', 71.78265136111781),\n",
       " ('high', 71.6565242442583),\n",
       " ('key', 71.52530925619708),\n",
       " ('provid', 71.37369781665602),\n",
       " ('either', 71.26562679526305),\n",
       " ('servic', 71.22016780506681),\n",
       " ('help', 71.07362474271916),\n",
       " ('evid', 71.01773842471191),\n",
       " ('hour', 70.9143549960923),\n",
       " ('polic', 70.85516809860445),\n",
       " ('almost', 70.7607007668717),\n",
       " ('articl', 70.75746377962396),\n",
       " ('build', 70.74221570130491),\n",
       " ('begin', 70.73777087083182),\n",
       " ('bring', 70.6955041868736),\n",
       " ('area', 70.48270718277224),\n",
       " ('director', 70.43771830752715),\n",
       " ('known', 70.33519145598245),\n",
       " ('social', 70.25366569508333),\n",
       " ('friday', 70.233574183435),\n",
       " ('entir', 70.23255425803934),\n",
       " ('speech', 70.14827827942352),\n",
       " ('within', 70.06588650296685),\n",
       " ('five', 69.95026394426289),\n",
       " ('twitter', 69.82703664363576),\n",
       " ('toward', 69.81898636157636),\n",
       " ('alway', 69.71004797207549),\n",
       " ('fail', 69.63431350110119),\n",
       " ('explain', 69.6043005071255),\n",
       " ('associ', 69.54087355486053),\n",
       " ('human', 69.5181057585688),\n",
       " ('outsid', 69.47715460322412),\n",
       " ('understand', 69.15737749135496),\n",
       " ('along', 68.95792665420856),\n",
       " ('street', 68.92227993215607),\n",
       " ('futur', 68.82397927701147),\n",
       " ('attempt', 68.73372605586157),\n",
       " ('break', 68.65299732850175),\n",
       " ('level', 68.61151788882145),\n",
       " ('hard', 68.53409692999784),\n",
       " ('challeng', 68.09032760863543),\n",
       " ('nearli', 68.0682862746063),\n",
       " ('went', 68.03233499451245),\n",
       " ('court', 68.0210720032151),\n",
       " ('address', 67.97869250278468),\n",
       " ('despit', 67.78801779086915),\n",
       " ('full', 67.7173039225146),\n",
       " ('believ', 67.69393038069575),\n",
       " ('pass', 67.41010044989473),\n",
       " ('complet', 67.3292141907188),\n",
       " ('term', 66.96255632130335),\n",
       " ('late', 66.83363204665662),\n",
       " ('messag', 66.72132948603874),\n",
       " ('econom', 66.71078027409472),\n",
       " ('cnn', 66.54519667234334),\n",
       " ('lose', 66.492477869868),\n",
       " ('wrote', 66.39587849918746),\n",
       " ('program', 66.32513346910781),\n",
       " ('step', 66.24423188722801),\n",
       " ('manag', 66.15548581633128),\n",
       " ('addit', 66.13414883303584),\n",
       " ('liber', 66.11125789681462),\n",
       " ('someon', 66.10227783716205),\n",
       " ('develop', 65.98157562489598),\n",
       " ('nomin', 65.86831082663493),\n",
       " ('often', 65.7406428035978),\n",
       " ('join', 65.669569088619),\n",
       " ('anyon', 65.62681812989875),\n",
       " ('rather', 65.59762976041296),\n",
       " ('activ', 65.57723414730481),\n",
       " ('committe', 65.56445851932592),\n",
       " ('decad', 65.48413111176792),\n",
       " ('monday', 65.20919604340014),\n",
       " ('publish', 65.17307226610933),\n",
       " ('requir', 65.13073553187888),\n",
       " ('barack', 64.98390749421124),\n",
       " ('small', 64.90358844923206),\n",
       " ('charg', 64.89881754282162),\n",
       " ('give', 64.76752627579673),\n",
       " ('pay', 64.73057814493126),\n",
       " ('direct', 64.50545874054454),\n",
       " ('ground', 64.40682485635641),\n",
       " ('accus', 64.32126334177232),\n",
       " ('account', 64.25826347360925),\n",
       " ('strong', 64.18752567081634),\n",
       " ('describ', 64.12885890133407),\n",
       " ('warn', 64.12613369286957),\n",
       " ('reveal', 63.9925549079621),\n",
       " ('probabl', 63.94349272702125),\n",
       " ('threat', 63.82692074302899),\n",
       " ('togeth', 63.65623120326008),\n",
       " ('role', 63.649711098290865),\n",
       " ('exampl', 63.638598816697844),\n",
       " ('justic', 63.61902126682551),\n",
       " ('want', 63.56892075117903),\n",
       " ('black', 63.539645876716925),\n",
       " ('children', 63.496338658085236),\n",
       " ('agre', 63.489751390735954),\n",
       " ('compani', 63.48041349630436),\n",
       " ('natur', 63.100733423219765),\n",
       " ('local', 63.08515994273201),\n",
       " ('north', 63.075549425841736),\n",
       " ('respond', 63.04591488038553),\n",
       " ('everyon', 63.01316977492103),\n",
       " ('thousand', 63.000478070478984),\n",
       " ('seek', 62.98310050452743),\n",
       " ('men', 62.90687419258575),\n",
       " ('held', 62.90146966954708),\n",
       " ('bush', 62.81339301935985),\n",
       " ('defend', 62.681629586676166),\n",
       " ('fire', 62.60804947459961),\n",
       " ('execut', 62.54646077943195),\n",
       " ('learn', 62.46094003844939),\n",
       " ('carri', 62.373345037984805),\n",
       " ('total', 62.14737675379792),\n",
       " ('true', 62.14413687111675),\n",
       " ('express', 62.0587060706143),\n",
       " ('fox', 62.001423111469265),\n",
       " ('move', 61.955265618636844),\n",
       " ('friend', 61.92838382961903),\n",
       " ('chanc', 61.89993825188845),\n",
       " ('target', 61.77735985665907),\n",
       " ('began', 61.741404158278364),\n",
       " ('detail', 61.698250265708786),\n",
       " ('everyth', 61.66339337215889),\n",
       " ('legal', 61.53700877198195),\n",
       " ('especi', 61.52598096147697),\n",
       " ('contribut', 61.50692576840845),\n",
       " ('simpli', 61.29397120126192),\n",
       " ('return', 61.28970767910316),\n",
       " ('team', 61.23275156301227),\n",
       " ('write', 61.17949580152789),\n",
       " ('moment', 61.16576934138675),\n",
       " ('commit', 61.0845952424766),\n",
       " ('mark', 60.87668667949702),\n",
       " ('aid', 60.86679091399957),\n",
       " ('grow', 60.865015343785636),\n",
       " ('independ', 60.736815005859086),\n",
       " ('answer', 60.68907940286418),\n",
       " ('health', 60.68195572332856),\n",
       " ('chief', 60.67350040168857),\n",
       " ('defens', 60.63990074612961),\n",
       " ('middl', 60.475437121611),\n",
       " ('woman', 60.30870307568254),\n",
       " ('refer', 60.2616268115201),\n",
       " ('lost', 60.22532185215018),\n",
       " ('death', 60.20547058028452),\n",
       " ('fund', 60.10209911859253),\n",
       " ('rise', 59.98346892367158),\n",
       " ('wall', 59.839311947376366),\n",
       " ('bad', 59.79436845081852),\n",
       " ('whose', 59.691222834765576),\n",
       " ('research', 59.58445208516104),\n",
       " ('similar', 59.37830540809158),\n",
       " ('terror', 59.34886967437661),\n",
       " ('refus', 59.273482216450226),\n",
       " ('led', 59.193707996298485),\n",
       " ('present', 59.18440270571514),\n",
       " ('immigr', 59.15299038399291),\n",
       " ('school', 59.09595414979042),\n",
       " ('argu', 59.058920048214105),\n",
       " ('florida', 58.98160983953455),\n",
       " ('success', 58.94126837532158),\n",
       " ('victori', 58.773525254678106),\n",
       " ('global', 58.766955588583485),\n",
       " ('fear', 58.76564238201693),\n",
       " ('march', 58.72326130052455),\n",
       " ('think', 58.48139024257055),\n",
       " ('sens', 58.34104485801677),\n",
       " ('whole', 58.266983033424204),\n",
       " ('promis', 58.25594282646573),\n",
       " ('south', 57.86986984942033),\n",
       " ('arm', 57.71057158237918),\n",
       " ('perhap', 57.676021341717785),\n",
       " ('paul', 57.520564661976046),\n",
       " ('rate', 57.45236084622546),\n",
       " ('favor', 57.29845775600782),\n",
       " ('ralli', 57.19718889254381),\n",
       " ('institut', 57.11384108567014),\n",
       " ('accept', 57.11262362576394),\n",
       " ('hear', 56.90819664533617),\n",
       " ('mind', 56.895419653942305),\n",
       " ('wrong', 56.866413669885475),\n",
       " ('citizen', 56.854097402206115),\n",
       " ('oppos', 56.66068055148277),\n",
       " ('immedi', 56.59520835720588),\n",
       " ('although', 56.211583417173635),\n",
       " ('form', 55.9656963281776),\n",
       " ('limit', 55.81654952299284),\n",
       " ('third', 55.80575325408532),\n",
       " ('senior', 55.45500066682074),\n",
       " ('opportun', 54.673355386645824),\n",
       " ('fall', 54.59030655764038),\n",
       " ('convent', 54.432296911471305)]"
      ]
     },
     "execution_count": 11,
     "metadata": {},
     "output_type": "execute_result"
    }
   ],
   "source": [
    "sum_words = tfidf_train.sum(axis=0) \n",
    "words_freq = [(word, sum_words[0, idx]) for word, idx in tfidf_vect.vocabulary_.items()]\n",
    "words_freq =sorted(words_freq, key = lambda x: x[1], reverse=True)\n",
    "words_freq"
   ]
  },
  {
   "cell_type": "code",
   "execution_count": 12,
   "metadata": {},
   "outputs": [],
   "source": [
    "from sklearn.ensemble import RandomForestClassifier, GradientBoostingClassifier\n",
    "from sklearn.metrics import precision_recall_fscore_support as score\n",
    "import time\n",
    "from sklearn.metrics import accuracy_score, precision_score, recall_score, f1_score, confusion_matrix\n"
   ]
  },
  {
   "cell_type": "code",
   "execution_count": 13,
   "metadata": {},
   "outputs": [],
   "source": [
    "#Function to plot intuitive confusion matrix\n",
    "import itertools\n",
    "def plot_confusion_matrix(cm, classes,\n",
    "                          normalize=False,\n",
    "                          title='Confusion matrix',\n",
    "                          cmap=plt.cm.Blues):\n",
    "    \"\"\"\n",
    "    This function prints and plots the confusion matrix.\n",
    "    Normalization can be applied by setting `normalize=True`.\n",
    "    \"\"\"\n",
    "    if normalize:\n",
    "        cm = cm.astype('float') / cm.sum(axis=1)[:, np.newaxis]\n",
    "        print(\"Normalized confusion matrix\")\n",
    "    else:\n",
    "        print('Confusion matrix, without normalization')\n",
    "\n",
    "    print(cm)\n",
    "\n",
    "    plt.imshow(cm, interpolation='nearest', cmap=cmap)\n",
    "    plt.title(title)\n",
    "    plt.colorbar()\n",
    "    tick_marks = np.arange(len(classes))\n",
    "    plt.xticks(tick_marks, classes, rotation=45)\n",
    "    plt.yticks(tick_marks, classes)\n",
    "\n",
    "    fmt = '.2f' if normalize else 'd'\n",
    "    thresh = cm.max() / 2.\n",
    "    for i, j in itertools.product(range(cm.shape[0]), range(cm.shape[1])):\n",
    "        plt.text(j, i, format(cm[i, j], fmt),\n",
    "                 horizontalalignment=\"center\",\n",
    "                 color=\"white\" if cm[i, j] > thresh else \"black\")\n",
    "\n",
    "    plt.ylabel('True label')\n",
    "    plt.xlabel('Predicted label')\n",
    "    plt.tight_layout()"
   ]
  },
  {
   "cell_type": "code",
   "execution_count": 14,
   "metadata": {},
   "outputs": [
    {
     "data": {
      "text/plain": [
       "GridSearchCV(cv=None, error_score=nan,\n",
       "             estimator=RandomForestClassifier(bootstrap=True, ccp_alpha=0.0,\n",
       "                                              class_weight=None,\n",
       "                                              criterion='gini', max_depth=None,\n",
       "                                              max_features='auto',\n",
       "                                              max_leaf_nodes=None,\n",
       "                                              max_samples=None,\n",
       "                                              min_impurity_decrease=0.0,\n",
       "                                              min_impurity_split=None,\n",
       "                                              min_samples_leaf=1,\n",
       "                                              min_samples_split=2,\n",
       "                                              min_weight_fraction_leaf=0.0,\n",
       "                                              n_estimators=100, n_jobs=None,\n",
       "                                              oob_score=False,\n",
       "                                              random_state=None, verbose=0,\n",
       "                                              warm_start=False),\n",
       "             iid='deprecated', n_jobs=None,\n",
       "             param_grid={'max_depth': [10, 20, 30, None],\n",
       "                         'n_estimators': [200, 500, 700, 1000],\n",
       "                         'n_jobs': [-1]},\n",
       "             pre_dispatch='2*n_jobs', refit=True, return_train_score=False,\n",
       "             scoring=None, verbose=0)"
      ]
     },
     "execution_count": 14,
     "metadata": {},
     "output_type": "execute_result"
    }
   ],
   "source": [
    "#randfom forest using grid search\n",
    "from sklearn.model_selection import GridSearchCV\n",
    "rfc = RandomForestClassifier()\n",
    "grid_values = {'n_estimators' : [200, 500, 700, 1000], 'max_depth' : [10, 20, 30, None], 'n_jobs' : [-1]}\n",
    "grid_rfc_acc = GridSearchCV(rfc, param_grid = grid_values)\n",
    "grid_rfc_acc.fit(X_train_vect, y_train)\n"
   ]
  },
  {
   "cell_type": "code",
   "execution_count": 15,
   "metadata": {},
   "outputs": [
    {
     "data": {
      "text/plain": [
       "{'max_depth': None, 'n_estimators': 700, 'n_jobs': -1}"
      ]
     },
     "execution_count": 15,
     "metadata": {},
     "output_type": "execute_result"
    }
   ],
   "source": [
    "#Obtain best parameters\n",
    "grid_rfc_acc.best_params_"
   ]
  },
  {
   "cell_type": "code",
   "execution_count": 16,
   "metadata": {},
   "outputs": [
    {
     "name": "stdout",
     "output_type": "stream",
     "text": [
      "Accuracy : 0.8775252525252525\n",
      "Precision : 0.8814814814814815\n",
      "Recall : 0.8793103448275862\n",
      "F1 Score : 0.8803945745992603\n",
      "Fit time : 1.8011870384216309\n",
      "Predict time : 0.12491106986999512\n",
      "Confusion Matrix : \n",
      "[[676  96]\n",
      " [ 98 714]]\n"
     ]
    }
   ],
   "source": [
    "rf = RandomForestClassifier(n_estimators=200, max_depth=None, n_jobs=-1)\n",
    "\n",
    "start = time.time()\n",
    "rf.fit(X_train_vect, y_train)\n",
    "end = time.time()\n",
    "fit_time = (end - start)\n",
    "\n",
    "start = time.time()\n",
    "y_pred = rf.predict(X_test_vect)\n",
    "end = time.time()\n",
    "pred_time = (end - start)\n",
    "\n",
    "print('Accuracy : ' + str(accuracy_score(y_test,y_pred)))\n",
    "print('Precision : ' + str(precision_score(y_test,y_pred)))\n",
    "print('Recall : ' + str(recall_score(y_test,y_pred)))\n",
    "print('F1 Score : ' + str(f1_score(y_test,y_pred)))\n",
    "print('Fit time : ' + str(fit_time))\n",
    "print('Predict time : ' + str(pred_time))\n",
    "\n",
    "print('Confusion Matrix : \\n' + str(confusion_matrix(y_test,y_pred)))"
   ]
  },
  {
   "cell_type": "code",
   "execution_count": 17,
   "metadata": {},
   "outputs": [
    {
     "data": {
      "image/png": "[encoded data removed]",
      "text/plain": [
       "<Figure size 432x288 with 1 Axes>"
      ]
     },
     "metadata": {
      "needs_background": "light"
     },
     "output_type": "display_data"
    }
   ],
   "source": [
    "#Top 20 features\n",
    "feat_importances = pd.Series(rf.feature_importances_, index=X_train_vect.columns.tolist())\n",
    "feat_importances.nlargest(20).plot(kind='barh')\n",
    "plt.show()"
   ]
  },
  {
   "cell_type": "code",
   "execution_count": 18,
   "metadata": {},
   "outputs": [
    {
     "name": "stdout",
     "output_type": "stream",
     "text": [
      "Confusion matrix, without normalization\n",
      "[[676  96]\n",
      " [ 98 714]]\n"
     ]
    },
    {
     "data": {
      "image/png": "[encoded data removed]",
      "text/plain": [
       "<Figure size 576x288 with 2 Axes>"
      ]
     },
     "metadata": {
      "needs_background": "light"
     },
     "output_type": "display_data"
    }
   ],
   "source": [
    "#confusion matrix plot\n",
    "cnf_matrix = confusion_matrix(y_test, y_pred)\n",
    "np.set_printoptions(precision=2)\n",
    "\n",
    "# Plot non-normalized confusion matrix\n",
    "plt.figure()\n",
    "class_names = [0,1]\n",
    "plot_confusion_matrix(cnf_matrix, classes=class_names,\n",
    "                      title='Confusion matrix - Random Forest')\n",
    "a = plt.gcf()\n",
    "a.set_size_inches(8,4)\n",
    "plt.show()"
   ]
  },
  {
   "cell_type": "code",
   "execution_count": 19,
   "metadata": {},
   "outputs": [
    {
     "data": {
      "image/png": "[encoded data removed]",
      "text/plain": [
       "<Figure size 432x288 with 1 Axes>"
      ]
     },
     "metadata": {
      "needs_background": "light"
     },
     "output_type": "display_data"
    }
   ],
   "source": [
    "#Plotting ROC curve\n",
    "from sklearn import metrics\n",
    "probs = grid_rfc_acc.fit(X_train_vect, y_train).predict_proba(X_test_vect)\n",
    "preds = probs[:,1]\n",
    "fpr, tpr, threshold = metrics.roc_curve(y_test, preds)\n",
    "roc_auc = metrics.auc(fpr, tpr)\n",
    "\n",
    "plt.figure()\n",
    "plt.plot(fpr, tpr, label='GridSearchCV (area = %0.2f)' % roc_auc)\n",
    "plt.plot([0, 1], [0, 1],'r--')\n",
    "plt.xlim([0.0, 1.0])\n",
    "plt.ylim([0.0, 1.05])\n",
    "plt.xlabel('False Positive Rate')\n",
    "plt.ylabel('True Positive Rate')\n",
    "plt.title('Receiver operating characteristic')\n",
    "plt.legend(loc=\"lower right\")\n",
    "plt.savefig('Log_ROC')\n",
    "plt.show()"
   ]
  },
  {
   "cell_type": "code",
   "execution_count": 20,
   "metadata": {},
   "outputs": [
    {
     "data": {
      "text/plain": [
       "GridSearchCV(cv=None, error_score=nan,\n",
       "             estimator=GradientBoostingClassifier(ccp_alpha=0.0,\n",
       "                                                  criterion='friedman_mse',\n",
       "                                                  init=None, learning_rate=0.1,\n",
       "                                                  loss='deviance', max_depth=3,\n",
       "                                                  max_features=None,\n",
       "                                                  max_leaf_nodes=None,\n",
       "                                                  min_impurity_decrease=0.0,\n",
       "                                                  min_impurity_split=None,\n",
       "                                                  min_samples_leaf=1,\n",
       "                                                  min_samples_split=2,\n",
       "                                                  min_weight_fraction_leaf=0.0,\n",
       "                                                  n_estimators=100,\n",
       "                                                  n_iter_no_change=None,\n",
       "                                                  presort='deprecated',\n",
       "                                                  random_state=None,\n",
       "                                                  subsample=1.0, tol=0.0001,\n",
       "                                                  validation_fraction=0.1,\n",
       "                                                  verbose=0, warm_start=False),\n",
       "             iid='deprecated', n_jobs=None,\n",
       "             param_grid={'max_depth': [7, 11, 15],\n",
       "                         'n_estimators': [150, 200, 500]},\n",
       "             pre_dispatch='2*n_jobs', refit=True, return_train_score=False,\n",
       "             scoring=None, verbose=0)"
      ]
     },
     "execution_count": 20,
     "metadata": {},
     "output_type": "execute_result"
    }
   ],
   "source": [
    "#gbm using grid search\n",
    "from sklearn.model_selection import GridSearchCV\n",
    "gbm = GradientBoostingClassifier()\n",
    "grid_values = {'n_estimators' : [150, 200, 500], 'max_depth' : [7, 11, 15]}\n",
    "grid_gbm_acc = GridSearchCV(gbm, param_grid = grid_values)\n",
    "grid_gbm_acc.fit(X_train_vect, y_train)\n"
   ]
  },
  {
   "cell_type": "code",
   "execution_count": 21,
   "metadata": {},
   "outputs": [
    {
     "data": {
      "text/plain": [
       "{'max_depth': 7, 'n_estimators': 500}"
      ]
     },
     "execution_count": 21,
     "metadata": {},
     "output_type": "execute_result"
    }
   ],
   "source": [
    "grid_gbm_acc.best_params_"
   ]
  },
  {
   "cell_type": "code",
   "execution_count": 22,
   "metadata": {},
   "outputs": [
    {
     "name": "stdout",
     "output_type": "stream",
     "text": [
      "Accuracy : 0.8964646464646465\n",
      "Precision : 0.907035175879397\n",
      "Recall : 0.8891625615763546\n",
      "F1 Score : 0.8980099502487562\n",
      "Fit time : 0.049904823303222656\n",
      "Predict time : 0.12491106986999512\n",
      "Confusion Matrix : \n",
      "[[698  74]\n",
      " [ 90 722]]\n"
     ]
    }
   ],
   "source": [
    "gb = GradientBoostingClassifier(n_estimators=500, max_depth=11)\n",
    "start = time.time()\n",
    "gb.fit(X_train_vect, y_train)\n",
    "end = time.time()\n",
    "fit_time = (end - start)\n",
    "\n",
    "start = time.time()\n",
    "y_pred = gb.predict(X_test_vect)\n",
    "end = time.time()\n",
    "fit_time = (end - start)\n",
    "\n",
    "print('Accuracy : ' + str(accuracy_score(y_test,y_pred)))\n",
    "print('Precision : ' + str(precision_score(y_test,y_pred)))\n",
    "print('Recall : ' + str(recall_score(y_test,y_pred)))\n",
    "print('F1 Score : ' + str(f1_score(y_test,y_pred)))\n",
    "print('Fit time : ' + str(fit_time))\n",
    "print('Predict time : ' + str(pred_time))\n",
    "\n",
    "print('Confusion Matrix : \\n' + str(confusion_matrix(y_test,y_pred)))"
   ]
  },
  {
   "cell_type": "code",
   "execution_count": 23,
   "metadata": {},
   "outputs": [
    {
     "data": {
      "image/png": "[encoded data removed]",
      "text/plain": [
       "<Figure size 432x288 with 1 Axes>"
      ]
     },
     "metadata": {
      "needs_background": "light"
     },
     "output_type": "display_data"
    }
   ],
   "source": [
    "feat_importances = pd.Series(gb.feature_importances_, index=X_train_vect.columns.tolist())\n",
    "feat_importances.nlargest(20).plot(kind='barh')\n",
    "plt.show()"
   ]
  },
  {
   "cell_type": "code",
   "execution_count": 24,
   "metadata": {},
   "outputs": [
    {
     "name": "stdout",
     "output_type": "stream",
     "text": [
      "Confusion matrix, without normalization\n",
      "[[698  74]\n",
      " [ 90 722]]\n"
     ]
    },
    {
     "data": {
      "image/png": "[encoded data removed]",
      "text/plain": [
       "<Figure size 576x288 with 2 Axes>"
      ]
     },
     "metadata": {
      "needs_background": "light"
     },
     "output_type": "display_data"
    }
   ],
   "source": [
    "#confusion matrix plot\n",
    "cnf_matrix = confusion_matrix(y_test, y_pred)\n",
    "np.set_printoptions(precision=2)\n",
    "\n",
    "# Plot non-normalized confusion matrix\n",
    "plt.figure()\n",
    "class_names = [0,1]\n",
    "plot_confusion_matrix(cnf_matrix, classes=class_names,\n",
    "                      title='Confusion matrix - Gradient Boosting')\n",
    "a = plt.gcf()\n",
    "a.set_size_inches(8,4)\n",
    "plt.show()"
   ]
  },
  {
   "cell_type": "code",
   "execution_count": 25,
   "metadata": {},
   "outputs": [
    {
     "data": {
      "image/png": "[encoded data removed]",
      "text/plain": [
       "<Figure size 432x288 with 1 Axes>"
      ]
     },
     "metadata": {
      "needs_background": "light"
     },
     "output_type": "display_data"
    }
   ],
   "source": [
    "#Plotting ROC curve\n",
    "from sklearn import metrics\n",
    "probs = grid_gbm_acc.fit(X_train_vect, y_train).predict_proba(X_test_vect)\n",
    "preds = probs[:,1]\n",
    "fpr, tpr, threshold = metrics.roc_curve(y_test, preds)\n",
    "roc_auc = metrics.auc(fpr, tpr)\n",
    "\n",
    "plt.figure()\n",
    "plt.plot(fpr, tpr, label='GridSearchCV (area = %0.2f)' % roc_auc)\n",
    "plt.plot([0, 1], [0, 1],'r--')\n",
    "plt.xlim([0.0, 1.0])\n",
    "plt.ylim([0.0, 1.05])\n",
    "plt.xlabel('False Positive Rate')\n",
    "plt.ylabel('True Positive Rate')\n",
    "plt.title('Receiver operating characteristic')\n",
    "plt.legend(loc=\"lower right\")\n",
    "plt.savefig('Log_ROC')\n",
    "plt.show()"
   ]
  },
  {
   "cell_type": "code",
   "execution_count": 27,
   "metadata": {},
   "outputs": [
    {
     "name": "stdout",
     "output_type": "stream",
     "text": [
      "Collecting xgboost\n",
      "  Downloading xgboost-1.0.2-py3-none-win_amd64.whl (24.6 MB)\n",
      "Requirement already satisfied: numpy in c:\\programdata\\anaconda3\\lib\\site-packages (from xgboost) (1.18.1)\n",
      "Requirement already satisfied: scipy in c:\\programdata\\anaconda3\\lib\\site-packages (from xgboost) (1.4.1)\n",
      "Installing collected packages: xgboost\n",
      "Successfully installed xgboost-1.0.2\n"
     ]
    }
   ],
   "source": [
    "! pip install xgboost"
   ]
  },
  {
   "cell_type": "code",
   "execution_count": 28,
   "metadata": {},
   "outputs": [
    {
     "data": {
      "text/plain": [
       "GridSearchCV(cv=None, error_score=nan,\n",
       "             estimator=XGBClassifier(base_score=None, booster=None,\n",
       "                                     colsample_bylevel=None,\n",
       "                                     colsample_bynode=None,\n",
       "                                     colsample_bytree=None, gamma=None,\n",
       "                                     gpu_id=None, importance_type='gain',\n",
       "                                     interaction_constraints=None,\n",
       "                                     learning_rate=None, max_delta_step=None,\n",
       "                                     max_depth=None, min_child_weight=None,\n",
       "                                     missing=nan, monotone_constraints=None,\n",
       "                                     n_es...\n",
       "                                     num_parallel_tree=None,\n",
       "                                     objective='binary:logistic',\n",
       "                                     random_state=None, reg_alpha=None,\n",
       "                                     reg_lambda=None, scale_pos_weight=None,\n",
       "                                     subsample=None, tree_method=None,\n",
       "                                     validate_parameters=False,\n",
       "                                     verbosity=None),\n",
       "             iid='deprecated', n_jobs=None,\n",
       "             param_grid={'max_depth': [5, 7, 10],\n",
       "                         'n_estimators': [150, 200, 500]},\n",
       "             pre_dispatch='2*n_jobs', refit=True, return_train_score=False,\n",
       "             scoring=None, verbose=0)"
      ]
     },
     "execution_count": 28,
     "metadata": {},
     "output_type": "execute_result"
    }
   ],
   "source": [
    "#xgbm using grid search\n",
    "from xgboost import XGBClassifier\n",
    "from sklearn.model_selection import GridSearchCV\n",
    "xgbm = XGBClassifier()\n",
    "grid_values = {'n_estimators' : [150, 200, 500], 'max_depth' : [5, 7, 10]}\n",
    "grid_xgbm_acc = GridSearchCV(xgbm, param_grid = grid_values)\n",
    "grid_xgbm_acc.fit(X_train_vect, y_train)\n"
   ]
  },
  {
   "cell_type": "code",
   "execution_count": 29,
   "metadata": {},
   "outputs": [
    {
     "data": {
      "text/plain": [
       "{'max_depth': 7, 'n_estimators': 500}"
      ]
     },
     "execution_count": 29,
     "metadata": {},
     "output_type": "execute_result"
    }
   ],
   "source": [
    "grid_xgbm_acc.best_params_"
   ]
  },
  {
   "cell_type": "code",
   "execution_count": 30,
   "metadata": {},
   "outputs": [
    {
     "name": "stdout",
     "output_type": "stream",
     "text": [
      "Accuracy : 0.8970959595959596\n",
      "Precision : 0.9061326658322904\n",
      "Recall : 0.8916256157635468\n",
      "F1 Score : 0.898820608317815\n",
      "Fit time : 0.040894269943237305\n",
      "Predict time : 0.12491106986999512\n",
      "Confusion Matrix : \n",
      "[[697  75]\n",
      " [ 88 724]]\n"
     ]
    }
   ],
   "source": [
    "from xgboost import XGBClassifier\n",
    "xgb = XGBClassifier(n_estimators=150, max_depth=10)\n",
    "start = time.time()\n",
    "xgb.fit(X_train_vect, y_train)\n",
    "end = time.time()\n",
    "fit_time = (end - start)\n",
    "\n",
    "start = time.time()\n",
    "y_pred = xgb.predict(X_test_vect)\n",
    "end = time.time()\n",
    "fit_time = (end - start)\n",
    "\n",
    "print('Accuracy : ' + str(accuracy_score(y_test,y_pred)))\n",
    "print('Precision : ' + str(precision_score(y_test,y_pred)))\n",
    "print('Recall : ' + str(recall_score(y_test,y_pred)))\n",
    "print('F1 Score : ' + str(f1_score(y_test,y_pred)))\n",
    "print('Fit time : ' + str(fit_time))\n",
    "print('Predict time : ' + str(pred_time))\n",
    "\n",
    "print('Confusion Matrix : \\n' + str(confusion_matrix(y_test,y_pred)))"
   ]
  },
  {
   "cell_type": "code",
   "execution_count": 31,
   "metadata": {},
   "outputs": [
    {
     "data": {
      "image/png": "[encoded data removed]",
      "text/plain": [
       "<Figure size 432x288 with 1 Axes>"
      ]
     },
     "metadata": {
      "needs_background": "light"
     },
     "output_type": "display_data"
    }
   ],
   "source": [
    "feat_importances = pd.Series(xgb.feature_importances_, index=X_train_vect.columns.tolist())\n",
    "feat_importances.nlargest(20).plot(kind='barh')\n",
    "plt.show()"
   ]
  },
  {
   "cell_type": "code",
   "execution_count": 32,
   "metadata": {},
   "outputs": [
    {
     "name": "stdout",
     "output_type": "stream",
     "text": [
      "Confusion matrix, without normalization\n",
      "[[697  75]\n",
      " [ 88 724]]\n"
     ]
    },
    {
     "data": {
      "image/png": "[encoded data removed]",
      "text/plain": [
       "<Figure size 576x288 with 2 Axes>"
      ]
     },
     "metadata": {
      "needs_background": "light"
     },
     "output_type": "display_data"
    }
   ],
   "source": [
    "#confusion matrix plot\n",
    "cnf_matrix = confusion_matrix(y_test, y_pred)\n",
    "np.set_printoptions(precision=2)\n",
    "\n",
    "# Plot non-normalized confusion matrix\n",
    "plt.figure()\n",
    "class_names = [0,1]\n",
    "plot_confusion_matrix(cnf_matrix, classes=class_names,\n",
    "                      title='Confusion matrix - Extreme Gradient Boosting')\n",
    "a = plt.gcf()\n",
    "a.set_size_inches(8,4)\n",
    "plt.show()"
   ]
  },
  {
   "cell_type": "code",
   "execution_count": 33,
   "metadata": {},
   "outputs": [
    {
     "data": {
      "image/png": "[encoded data removed]",
      "text/plain": [
       "<Figure size 432x288 with 1 Axes>"
      ]
     },
     "metadata": {
      "needs_background": "light"
     },
     "output_type": "display_data"
    }
   ],
   "source": [
    "#Plotting ROC curve\n",
    "from sklearn import metrics\n",
    "probs = grid_xgbm_acc.fit(X_train_vect, y_train).predict_proba(X_test_vect)\n",
    "preds = probs[:,1]\n",
    "fpr, tpr, threshold = metrics.roc_curve(y_test, preds)\n",
    "roc_auc = metrics.auc(fpr, tpr)\n",
    "\n",
    "plt.figure()\n",
    "plt.plot(fpr, tpr, label='GridSearchCV (area = %0.2f)' % roc_auc)\n",
    "plt.plot([0, 1], [0, 1],'r--')\n",
    "plt.xlim([0.0, 1.0])\n",
    "plt.ylim([0.0, 1.05])\n",
    "plt.xlabel('False Positive Rate')\n",
    "plt.ylabel('True Positive Rate')\n",
    "plt.title('Receiver operating characteristic')\n",
    "plt.legend(loc=\"lower right\")\n",
    "plt.savefig('Log_ROC')\n",
    "plt.show()"
   ]
  },
  {
   "cell_type": "code",
   "execution_count": 34,
   "metadata": {},
   "outputs": [
    {
     "name": "stderr",
     "output_type": "stream",
     "text": [
      "C:\\ProgramData\\Anaconda3\\lib\\site-packages\\sklearn\\model_selection\\_validation.py:536: FitFailedWarning: Estimator fit failed. The score on this train-test partition for these parameters will be set to nan. Details: \n",
      "ValueError: Solver lbfgs supports only 'l2' or 'none' penalties, got l1 penalty.\n",
      "\n",
      "  FitFailedWarning)\n",
      "C:\\ProgramData\\Anaconda3\\lib\\site-packages\\sklearn\\model_selection\\_validation.py:536: FitFailedWarning: Estimator fit failed. The score on this train-test partition for these parameters will be set to nan. Details: \n",
      "ValueError: Solver lbfgs supports only 'l2' or 'none' penalties, got l1 penalty.\n",
      "\n",
      "  FitFailedWarning)\n",
      "C:\\ProgramData\\Anaconda3\\lib\\site-packages\\sklearn\\model_selection\\_validation.py:536: FitFailedWarning: Estimator fit failed. The score on this train-test partition for these parameters will be set to nan. Details: \n",
      "ValueError: Solver lbfgs supports only 'l2' or 'none' penalties, got l1 penalty.\n",
      "\n",
      "  FitFailedWarning)\n",
      "C:\\ProgramData\\Anaconda3\\lib\\site-packages\\sklearn\\model_selection\\_validation.py:536: FitFailedWarning: Estimator fit failed. The score on this train-test partition for these parameters will be set to nan. Details: \n",
      "ValueError: Solver lbfgs supports only 'l2' or 'none' penalties, got l1 penalty.\n",
      "\n",
      "  FitFailedWarning)\n",
      "C:\\ProgramData\\Anaconda3\\lib\\site-packages\\sklearn\\model_selection\\_validation.py:536: FitFailedWarning: Estimator fit failed. The score on this train-test partition for these parameters will be set to nan. Details: \n",
      "ValueError: Solver lbfgs supports only 'l2' or 'none' penalties, got l1 penalty.\n",
      "\n",
      "  FitFailedWarning)\n",
      "C:\\ProgramData\\Anaconda3\\lib\\site-packages\\sklearn\\model_selection\\_validation.py:536: FitFailedWarning: Estimator fit failed. The score on this train-test partition for these parameters will be set to nan. Details: \n",
      "ValueError: Solver lbfgs supports only 'l2' or 'none' penalties, got l1 penalty.\n",
      "\n",
      "  FitFailedWarning)\n",
      "C:\\ProgramData\\Anaconda3\\lib\\site-packages\\sklearn\\model_selection\\_validation.py:536: FitFailedWarning: Estimator fit failed. The score on this train-test partition for these parameters will be set to nan. Details: \n",
      "ValueError: Solver lbfgs supports only 'l2' or 'none' penalties, got l1 penalty.\n",
      "\n",
      "  FitFailedWarning)\n",
      "C:\\ProgramData\\Anaconda3\\lib\\site-packages\\sklearn\\model_selection\\_validation.py:536: FitFailedWarning: Estimator fit failed. The score on this train-test partition for these parameters will be set to nan. Details: \n",
      "ValueError: Solver lbfgs supports only 'l2' or 'none' penalties, got l1 penalty.\n",
      "\n",
      "  FitFailedWarning)\n",
      "C:\\ProgramData\\Anaconda3\\lib\\site-packages\\sklearn\\linear_model\\_logistic.py:940: ConvergenceWarning: lbfgs failed to converge (status=1):\n",
      "STOP: TOTAL NO. of ITERATIONS REACHED LIMIT.\n",
      "\n",
      "Increase the number of iterations (max_iter) or scale the data as shown in:\n",
      "    https://scikit-learn.org/stable/modules/preprocessing.html\n",
      "Please also refer to the documentation for alternative solver options:\n",
      "    https://scikit-learn.org/stable/modules/linear_model.html#logistic-regression\n",
      "  extra_warning_msg=_LOGISTIC_SOLVER_CONVERGENCE_MSG)\n",
      "C:\\ProgramData\\Anaconda3\\lib\\site-packages\\sklearn\\linear_model\\_logistic.py:940: ConvergenceWarning: lbfgs failed to converge (status=1):\n",
      "STOP: TOTAL NO. of ITERATIONS REACHED LIMIT.\n",
      "\n",
      "Increase the number of iterations (max_iter) or scale the data as shown in:\n",
      "    https://scikit-learn.org/stable/modules/preprocessing.html\n",
      "Please also refer to the documentation for alternative solver options:\n",
      "    https://scikit-learn.org/stable/modules/linear_model.html#logistic-regression\n",
      "  extra_warning_msg=_LOGISTIC_SOLVER_CONVERGENCE_MSG)\n"
     ]
    },
    {
     "data": {
      "text/plain": [
       "GridSearchCV(cv=None, error_score=nan,\n",
       "             estimator=LogisticRegression(C=1.0, class_weight=None, dual=False,\n",
       "                                          fit_intercept=True,\n",
       "                                          intercept_scaling=1, l1_ratio=None,\n",
       "                                          max_iter=100, multi_class='auto',\n",
       "                                          n_jobs=None, penalty='l2',\n",
       "                                          random_state=None, solver='lbfgs',\n",
       "                                          tol=0.0001, verbose=0,\n",
       "                                          warm_start=False),\n",
       "             iid='deprecated', n_jobs=None,\n",
       "             param_grid={'C': [0.001, 0.009, 0.01, 0.09, 1, 5, 10, 25],\n",
       "                         'penalty': ['l1', 'l2']},\n",
       "             pre_dispatch='2*n_jobs', refit=True, return_train_score=False,\n",
       "             scoring=None, verbose=0)"
      ]
     },
     "execution_count": 34,
     "metadata": {},
     "output_type": "execute_result"
    }
   ],
   "source": [
    "#logistic regression grid search\n",
    "from sklearn.linear_model import LogisticRegression\n",
    "from sklearn.model_selection import GridSearchCV\n",
    "clf = LogisticRegression()\n",
    "grid_values = {'penalty': ['l1', 'l2'],'C':[0.001,.009,0.01,.09,1,5,10,25]}\n",
    "grid_clf_acc = GridSearchCV(clf, param_grid = grid_values)\n",
    "grid_clf_acc.fit(X_train_vect, y_train)\n"
   ]
  },
  {
   "cell_type": "code",
   "execution_count": 35,
   "metadata": {},
   "outputs": [
    {
     "data": {
      "text/plain": [
       "{'C': 1, 'penalty': 'l2'}"
      ]
     },
     "execution_count": 35,
     "metadata": {},
     "output_type": "execute_result"
    }
   ],
   "source": [
    "grid_clf_acc.best_params_"
   ]
  },
  {
   "cell_type": "code",
   "execution_count": 37,
   "metadata": {},
   "outputs": [
    {
     "name": "stdout",
     "output_type": "stream",
     "text": [
      "Accuracy : 0.8983585858585859\n",
      "Precision : 0.9003690036900369\n",
      "Recall : 0.9014778325123153\n",
      "F1 Score : 0.9009230769230769\n",
      "Fit time : 0.0059854984283447266\n",
      "Predict time : 0.12491106986999512\n",
      "Confusion Matrix : \n",
      "[[691  81]\n",
      " [ 80 732]]\n"
     ]
    }
   ],
   "source": [
    "#Using Logistic Regression\n",
    "from sklearn.linear_model import LogisticRegression\n",
    "\n",
    "log = LogisticRegression(C = 1, penalty = 'l2')\n",
    "start = time.time()\n",
    "log.fit(X_train_vect, y_train)\n",
    "end = time.time()\n",
    "fit_time = (end - start)\n",
    "\n",
    "start = time.time()\n",
    "y_pred = log.predict(X_test_vect)\n",
    "end = time.time()\n",
    "fit_time = (end - start)\n",
    "\n",
    "print('Accuracy : ' + str(accuracy_score(y_test,y_pred)))\n",
    "print('Precision : ' + str(precision_score(y_test,y_pred)))\n",
    "print('Recall : ' + str(recall_score(y_test,y_pred)))\n",
    "print('F1 Score : ' + str(f1_score(y_test,y_pred)))\n",
    "print('Fit time : ' + str(fit_time))\n",
    "print('Predict time : ' + str(pred_time))\n",
    "\n",
    "print('Confusion Matrix : \\n' + str(confusion_matrix(y_test,y_pred)))"
   ]
  },
  {
   "cell_type": "code",
   "execution_count": 38,
   "metadata": {},
   "outputs": [
    {
     "data": {
      "text/plain": [
       "array([221, 105, 220, 182, 341, 280, 170, 392,  62, 321, 477, 294, 301,\n",
       "       444, 338, 372,  80, 456,  90,  68], dtype=int64)"
      ]
     },
     "execution_count": 38,
     "metadata": {},
     "output_type": "execute_result"
    }
   ],
   "source": [
    "import numpy as np\n",
    "logmodel = log.fit(X_train_vect, y_train)\n",
    "coefs=logmodel.coef_[0]\n",
    "top_three = np.argpartition(coefs, -20)[-20:]\n",
    "#top_three_sorted=top_three[np.argsort(coefs[top_three])]\n",
    "top_three"
   ]
  },
  {
   "cell_type": "code",
   "execution_count": 39,
   "metadata": {},
   "outputs": [
    {
     "name": "stdout",
     "output_type": "stream",
     "text": [
      "Confusion matrix, without normalization\n",
      "[[691  81]\n",
      " [ 80 732]]\n"
     ]
    },
    {
     "data": {
      "image/png": "[encoded data removed]",
      "text/plain": [
       "<Figure size 576x288 with 2 Axes>"
      ]
     },
     "metadata": {
      "needs_background": "light"
     },
     "output_type": "display_data"
    }
   ],
   "source": [
    "#confusion matrix plot\n",
    "cnf_matrix = confusion_matrix(y_test, y_pred)\n",
    "np.set_printoptions(precision=2)\n",
    "\n",
    "# Plot non-normalized confusion matrix\n",
    "plt.figure()\n",
    "class_names = [0,1]\n",
    "plot_confusion_matrix(cnf_matrix, classes=class_names,\n",
    "                      title='Confusion matrix - Logistic Regression')\n",
    "a = plt.gcf()\n",
    "a.set_size_inches(8,4)\n",
    "plt.show()"
   ]
  },
  {
   "cell_type": "code",
   "execution_count": 40,
   "metadata": {},
   "outputs": [
    {
     "name": "stderr",
     "output_type": "stream",
     "text": [
      "C:\\ProgramData\\Anaconda3\\lib\\site-packages\\sklearn\\model_selection\\_validation.py:536: FitFailedWarning: Estimator fit failed. The score on this train-test partition for these parameters will be set to nan. Details: \n",
      "ValueError: Solver lbfgs supports only 'l2' or 'none' penalties, got l1 penalty.\n",
      "\n",
      "  FitFailedWarning)\n",
      "C:\\ProgramData\\Anaconda3\\lib\\site-packages\\sklearn\\model_selection\\_validation.py:536: FitFailedWarning: Estimator fit failed. The score on this train-test partition for these parameters will be set to nan. Details: \n",
      "ValueError: Solver lbfgs supports only 'l2' or 'none' penalties, got l1 penalty.\n",
      "\n",
      "  FitFailedWarning)\n",
      "C:\\ProgramData\\Anaconda3\\lib\\site-packages\\sklearn\\model_selection\\_validation.py:536: FitFailedWarning: Estimator fit failed. The score on this train-test partition for these parameters will be set to nan. Details: \n",
      "ValueError: Solver lbfgs supports only 'l2' or 'none' penalties, got l1 penalty.\n",
      "\n",
      "  FitFailedWarning)\n",
      "C:\\ProgramData\\Anaconda3\\lib\\site-packages\\sklearn\\model_selection\\_validation.py:536: FitFailedWarning: Estimator fit failed. The score on this train-test partition for these parameters will be set to nan. Details: \n",
      "ValueError: Solver lbfgs supports only 'l2' or 'none' penalties, got l1 penalty.\n",
      "\n",
      "  FitFailedWarning)\n",
      "C:\\ProgramData\\Anaconda3\\lib\\site-packages\\sklearn\\model_selection\\_validation.py:536: FitFailedWarning: Estimator fit failed. The score on this train-test partition for these parameters will be set to nan. Details: \n",
      "ValueError: Solver lbfgs supports only 'l2' or 'none' penalties, got l1 penalty.\n",
      "\n",
      "  FitFailedWarning)\n",
      "C:\\ProgramData\\Anaconda3\\lib\\site-packages\\sklearn\\model_selection\\_validation.py:536: FitFailedWarning: Estimator fit failed. The score on this train-test partition for these parameters will be set to nan. Details: \n",
      "ValueError: Solver lbfgs supports only 'l2' or 'none' penalties, got l1 penalty.\n",
      "\n",
      "  FitFailedWarning)\n",
      "C:\\ProgramData\\Anaconda3\\lib\\site-packages\\sklearn\\model_selection\\_validation.py:536: FitFailedWarning: Estimator fit failed. The score on this train-test partition for these parameters will be set to nan. Details: \n",
      "ValueError: Solver lbfgs supports only 'l2' or 'none' penalties, got l1 penalty.\n",
      "\n",
      "  FitFailedWarning)\n",
      "C:\\ProgramData\\Anaconda3\\lib\\site-packages\\sklearn\\model_selection\\_validation.py:536: FitFailedWarning: Estimator fit failed. The score on this train-test partition for these parameters will be set to nan. Details: \n",
      "ValueError: Solver lbfgs supports only 'l2' or 'none' penalties, got l1 penalty.\n",
      "\n",
      "  FitFailedWarning)\n",
      "C:\\ProgramData\\Anaconda3\\lib\\site-packages\\sklearn\\linear_model\\_logistic.py:940: ConvergenceWarning: lbfgs failed to converge (status=1):\n",
      "STOP: TOTAL NO. of ITERATIONS REACHED LIMIT.\n",
      "\n",
      "Increase the number of iterations (max_iter) or scale the data as shown in:\n",
      "    https://scikit-learn.org/stable/modules/preprocessing.html\n",
      "Please also refer to the documentation for alternative solver options:\n",
      "    https://scikit-learn.org/stable/modules/linear_model.html#logistic-regression\n",
      "  extra_warning_msg=_LOGISTIC_SOLVER_CONVERGENCE_MSG)\n",
      "C:\\ProgramData\\Anaconda3\\lib\\site-packages\\sklearn\\linear_model\\_logistic.py:940: ConvergenceWarning: lbfgs failed to converge (status=1):\n",
      "STOP: TOTAL NO. of ITERATIONS REACHED LIMIT.\n",
      "\n",
      "Increase the number of iterations (max_iter) or scale the data as shown in:\n",
      "    https://scikit-learn.org/stable/modules/preprocessing.html\n",
      "Please also refer to the documentation for alternative solver options:\n",
      "    https://scikit-learn.org/stable/modules/linear_model.html#logistic-regression\n",
      "  extra_warning_msg=_LOGISTIC_SOLVER_CONVERGENCE_MSG)\n"
     ]
    },
    {
     "data": {
      "image/png": "[encoded data removed]",
      "text/plain": [
       "<Figure size 432x288 with 1 Axes>"
      ]
     },
     "metadata": {
      "needs_background": "light"
     },
     "output_type": "display_data"
    }
   ],
   "source": [
    "#Plotting ROC curve\n",
    "from sklearn import metrics\n",
    "probs = grid_clf_acc.fit(X_train_vect, y_train).predict_proba(X_test_vect)\n",
    "preds = probs[:,1]\n",
    "fpr, tpr, threshold = metrics.roc_curve(y_test, preds)\n",
    "roc_auc = metrics.auc(fpr, tpr)\n",
    "\n",
    "plt.figure()\n",
    "plt.plot(fpr, tpr, label='GridSearchCV (area = %0.2f)' % roc_auc)\n",
    "plt.plot([0, 1], [0, 1],'r--')\n",
    "plt.xlim([0.0, 1.0])\n",
    "plt.ylim([0.0, 1.05])\n",
    "plt.xlabel('False Positive Rate')\n",
    "plt.ylabel('True Positive Rate')\n",
    "plt.title('Receiver operating characteristic')\n",
    "plt.legend(loc=\"lower right\")\n",
    "plt.savefig('Log_ROC')\n",
    "plt.show()"
   ]
  },
  {
   "cell_type": "code",
   "execution_count": 41,
   "metadata": {},
   "outputs": [
    {
     "data": {
      "text/plain": [
       "0.9637409390234565"
      ]
     },
     "execution_count": 41,
     "metadata": {},
     "output_type": "execute_result"
    }
   ],
   "source": [
    "roc_auc"
   ]
  },
  {
   "cell_type": "code",
   "execution_count": 42,
   "metadata": {},
   "outputs": [
    {
     "name": "stdout",
     "output_type": "stream",
     "text": [
      "Accuracy : 0.8333333333333334\n",
      "Precision : 0.8366093366093366\n",
      "Recall : 0.8386699507389163\n",
      "F1 Score : 0.8376383763837638\n",
      "Fit time : 0.021962404251098633\n",
      "Predict time : 0.12491106986999512\n",
      "Confusion Matrix : \n",
      "[[639 133]\n",
      " [131 681]]\n"
     ]
    }
   ],
   "source": [
    "#Using Naive Bayes \n",
    "from sklearn.naive_bayes import GaussianNB\n",
    "from sklearn.naive_bayes import MultinomialNB\n",
    "\n",
    "#nb = MultinomialNB()\n",
    "\n",
    "nb = GaussianNB()\n",
    "start = time.time()\n",
    "nb.fit(X_train_vect, y_train)\n",
    "end = time.time()\n",
    "fit_time = (end - start)\n",
    "\n",
    "start = time.time()\n",
    "y_pred = nb.predict(X_test_vect)\n",
    "end = time.time()\n",
    "fit_time = (end - start)\n",
    "\n",
    "print('Accuracy : ' + str(accuracy_score(y_test,y_pred)))\n",
    "print('Precision : ' + str(precision_score(y_test,y_pred)))\n",
    "print('Recall : ' + str(recall_score(y_test,y_pred)))\n",
    "print('F1 Score : ' + str(f1_score(y_test,y_pred)))\n",
    "print('Fit time : ' + str(fit_time))\n",
    "print('Predict time : ' + str(pred_time))\n",
    "\n",
    "print('Confusion Matrix : \\n' + str(confusion_matrix(y_test,y_pred)))"
   ]
  },
  {
   "cell_type": "code",
   "execution_count": 44,
   "metadata": {},
   "outputs": [
    {
     "name": "stdout",
     "output_type": "stream",
     "text": [
      "Confusion matrix, without normalization\n",
      "[[639 133]\n",
      " [131 681]]\n"
     ]
    },
    {
     "data": {
      "image/png": "[encoded data removed]",
      "text/plain": [
       "<Figure size 576x288 with 2 Axes>"
      ]
     },
     "metadata": {
      "needs_background": "light"
     },
     "output_type": "display_data"
    }
   ],
   "source": [
    "#confusion matrix plot\n",
    "cnf_matrix = confusion_matrix(y_test, y_pred)\n",
    "np.set_printoptions(precision=2)\n",
    "\n",
    "# Plot non-normalized confusion matrix\n",
    "plt.figure()\n",
    "class_names = [0,1]\n",
    "plot_confusion_matrix(cnf_matrix, classes=class_names,\n",
    "                      title='Confusion matrix - Naive Bayes')\n",
    "a = plt.gcf()\n",
    "a.set_size_inches(8,4)\n",
    "plt.show()"
   ]
  },
  {
   "cell_type": "code",
   "execution_count": 45,
   "metadata": {},
   "outputs": [
    {
     "data": {
      "image/png": "[encoded data removed]",
      "text/plain": [
       "<Figure size 432x288 with 1 Axes>"
      ]
     },
     "metadata": {
      "needs_background": "light"
     },
     "output_type": "display_data"
    }
   ],
   "source": [
    "#Plotting ROC curve\n",
    "from sklearn import metrics\n",
    "probs = nb.fit(X_train_vect, y_train).predict_proba(X_test_vect)\n",
    "preds = probs[:,1]\n",
    "fpr, tpr, threshold = metrics.roc_curve(y_test, preds)\n",
    "roc_auc = metrics.auc(fpr, tpr)\n",
    "\n",
    "plt.figure()\n",
    "plt.plot(fpr, tpr, label='GridSearchCV (area = %0.2f)' % roc_auc)\n",
    "plt.plot([0, 1], [0, 1],'r--')\n",
    "plt.xlim([0.0, 1.0])\n",
    "plt.ylim([0.0, 1.05])\n",
    "plt.xlabel('False Positive Rate')\n",
    "plt.ylabel('True Positive Rate')\n",
    "plt.title('Receiver operating characteristic')\n",
    "plt.legend(loc=\"lower right\")\n",
    "plt.savefig('Log_ROC')\n",
    "plt.show()"
   ]
  },
  {
   "cell_type": "code",
   "execution_count": 46,
   "metadata": {},
   "outputs": [
    {
     "data": {
      "text/plain": [
       "GridSearchCV(cv=10, error_score=nan,\n",
       "             estimator=KNeighborsClassifier(algorithm='auto', leaf_size=30,\n",
       "                                            metric='minkowski',\n",
       "                                            metric_params=None, n_jobs=None,\n",
       "                                            n_neighbors=5, p=2,\n",
       "                                            weights='uniform'),\n",
       "             iid='deprecated', n_jobs=None,\n",
       "             param_grid={'n_neighbors': [1, 2, 3, 4, 5, 6, 7, 8, 9, 10, 11, 12,\n",
       "                                         13, 14, 15, 16, 17, 18, 19, 20, 21, 22,\n",
       "                                         23, 24, 25, 26, 27, 28, 29, 30]},\n",
       "             pre_dispatch='2*n_jobs', refit=True, return_train_score=False,\n",
       "             scoring=None, verbose=0)"
      ]
     },
     "execution_count": 46,
     "metadata": {},
     "output_type": "execute_result"
    }
   ],
   "source": [
    "#KNN using grid search\n",
    "from sklearn.neighbors import KNeighborsClassifier\n",
    "\n",
    "knn = KNeighborsClassifier()\n",
    "k_range = list(range(1, 31))\n",
    "param_grid = dict(n_neighbors=k_range)\n",
    "grid = GridSearchCV(knn, param_grid, cv=10)\n",
    "\n",
    "grid.fit(X_train_vect, y_train)\n"
   ]
  },
  {
   "cell_type": "code",
   "execution_count": 47,
   "metadata": {},
   "outputs": [
    {
     "data": {
      "text/plain": [
       "{'n_neighbors': 1}"
      ]
     },
     "execution_count": 47,
     "metadata": {},
     "output_type": "execute_result"
    }
   ],
   "source": [
    "grid.best_params_"
   ]
  },
  {
   "cell_type": "code",
   "execution_count": 48,
   "metadata": {},
   "outputs": [
    {
     "name": "stdout",
     "output_type": "stream",
     "text": [
      "Accuracy : 0.5505050505050505\n",
      "Precision : 0.8289473684210527\n",
      "Recall : 0.15517241379310345\n",
      "F1 Score : 0.26141078838174275\n",
      "Fit time : 7.45241379737854\n",
      "Predict time : 0.12491106986999512\n",
      "Confusion Matrix : \n",
      "[[746  26]\n",
      " [686 126]]\n"
     ]
    }
   ],
   "source": [
    "#Using K-Nearest Neighbor\n",
    "from sklearn.neighbors import KNeighborsClassifier\n",
    "\n",
    "knn = KNeighborsClassifier(n_neighbors = 26)\n",
    "start = time.time()\n",
    "knn.fit(X_train_vect, y_train)\n",
    "end = time.time()\n",
    "fit_time = (end - start)\n",
    "\n",
    "start = time.time()\n",
    "y_pred = knn.predict(X_test_vect)\n",
    "end = time.time()\n",
    "fit_time = (end - start)\n",
    "\n",
    "print('Accuracy : ' + str(accuracy_score(y_test,y_pred)))\n",
    "print('Precision : ' + str(precision_score(y_test,y_pred)))\n",
    "print('Recall : ' + str(recall_score(y_test,y_pred)))\n",
    "print('F1 Score : ' + str(f1_score(y_test,y_pred)))\n",
    "print('Fit time : ' + str(fit_time))\n",
    "print('Predict time : ' + str(pred_time))\n",
    "\n",
    "print('Confusion Matrix : \\n' + str(confusion_matrix(y_test,y_pred)))"
   ]
  },
  {
   "cell_type": "code",
   "execution_count": 49,
   "metadata": {},
   "outputs": [
    {
     "name": "stdout",
     "output_type": "stream",
     "text": [
      "Confusion matrix, without normalization\n",
      "[[746  26]\n",
      " [686 126]]\n"
     ]
    },
    {
     "data": {
      "image/png": "[encoded data removed]",
      "text/plain": [
       "<Figure size 576x288 with 2 Axes>"
      ]
     },
     "metadata": {
      "needs_background": "light"
     },
     "output_type": "display_data"
    }
   ],
   "source": [
    "#confusion matrix plot\n",
    "cnf_matrix = confusion_matrix(y_test, y_pred)\n",
    "np.set_printoptions(precision=2)\n",
    "\n",
    "# Plot non-normalized confusion matrix\n",
    "plt.figure()\n",
    "class_names = [0,1]\n",
    "plot_confusion_matrix(cnf_matrix, classes=class_names,\n",
    "                      title='Confusion matrix - K-Nearest Neighbors')\n",
    "a = plt.gcf()\n",
    "a.set_size_inches(8,4)\n",
    "plt.show()"
   ]
  },
  {
   "cell_type": "code",
   "execution_count": 50,
   "metadata": {},
   "outputs": [
    {
     "data": {
      "image/png": "[encoded data removed]",
      "text/plain": [
       "<Figure size 432x288 with 1 Axes>"
      ]
     },
     "metadata": {
      "needs_background": "light"
     },
     "output_type": "display_data"
    }
   ],
   "source": [
    "#Plotting ROC curve\n",
    "from sklearn import metrics\n",
    "probs = grid.fit(X_train_vect, y_train).predict_proba(X_test_vect)\n",
    "preds = probs[:,1]\n",
    "fpr, tpr, threshold = metrics.roc_curve(y_test, preds)\n",
    "roc_auc = metrics.auc(fpr, tpr)\n",
    "\n",
    "plt.figure()\n",
    "plt.plot(fpr, tpr, label='GridSearchCV (area = %0.2f)' % roc_auc)\n",
    "plt.plot([0, 1], [0, 1],'r--')\n",
    "plt.xlim([0.0, 1.0])\n",
    "plt.ylim([0.0, 1.05])\n",
    "plt.xlabel('False Positive Rate')\n",
    "plt.ylabel('True Positive Rate')\n",
    "plt.title('Receiver operating characteristic')\n",
    "plt.legend(loc=\"lower right\")\n",
    "plt.savefig('Log_ROC')\n",
    "plt.show()"
   ]
  },
  {
   "cell_type": "code",
   "execution_count": null,
   "metadata": {},
   "outputs": [],
   "source": []
  }
 ],
 "metadata": {
  "kernelspec": {
   "display_name": "Python 3",
   "language": "python",
   "name": "python3"
  },
  "language_info": {
   "codemirror_mode": {
    "name": "ipython",
    "version": 3
   },
   "file_extension": ".py",
   "mimetype": "text/x-python",
   "name": "python",
   "nbconvert_exporter": "python",
   "pygments_lexer": "ipython3",
   "version": "3.7.6"
  }
 },
 "nbformat": 4,
 "nbformat_minor": 2
}
